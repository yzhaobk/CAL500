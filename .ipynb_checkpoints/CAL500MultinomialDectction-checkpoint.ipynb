{
 "cells": [
  {
   "cell_type": "code",
   "execution_count": 1,
   "metadata": {
    "collapsed": false
   },
   "outputs": [
    {
     "data": {
      "text/plain": [
       "(502, 242)"
      ]
     },
     "execution_count": 1,
     "metadata": {},
     "output_type": "execute_result"
    }
   ],
   "source": [
    "%matplotlib inline\n",
    "\n",
    "import numpy as np\n",
    "from numpy import linalg as LA\n",
    "from sklearn.cluster import KMeans\n",
    "import math\n",
    "from numpy import dot as dot\n",
    "import networkx as nx\n",
    "import matplotlib.pylab as plt\n",
    "import scipy.sparse as sps\n",
    "from IPython.core.interactiveshell import InteractiveShell\n",
    "InteractiveShell.ast_node_interactivity = \"all\"\n",
    "\n",
    "\n",
    "data = np.loadtxt('cal500',delimiter = ',')\n",
    "data.shape\n"
   ]
  },
  {
   "cell_type": "code",
   "execution_count": 2,
   "metadata": {
    "collapsed": false
   },
   "outputs": [],
   "source": [
    "with open('label2.txt') as f:\n",
    "    label = f.readlines()"
   ]
  },
  {
   "cell_type": "code",
   "execution_count": 3,
   "metadata": {
    "collapsed": false
   },
   "outputs": [
    {
     "data": {
      "text/plain": [
       "(502, 174)"
      ]
     },
     "execution_count": 3,
     "metadata": {},
     "output_type": "execute_result"
    },
    {
     "data": {
      "text/plain": [
       "array([[ 0.,  1.,  0., ...,  0.,  0.,  0.],\n",
       "       [ 0.,  1.,  0., ...,  0.,  0.,  0.],\n",
       "       [ 0.,  1.,  1., ...,  0.,  0.,  0.],\n",
       "       ..., \n",
       "       [ 0.,  1.,  0., ...,  0.,  0.,  0.],\n",
       "       [ 0.,  1.,  0., ...,  0.,  0.,  0.],\n",
       "       [ 0.,  1.,  0., ...,  0.,  0.,  0.]])"
      ]
     },
     "execution_count": 3,
     "metadata": {},
     "output_type": "execute_result"
    }
   ],
   "source": [
    "A = data[:,-len(label):]\n",
    "A.shape\n",
    "np.rint(A)"
   ]
  },
  {
   "cell_type": "code",
   "execution_count": 4,
   "metadata": {
    "collapsed": false
   },
   "outputs": [
    {
     "data": {
      "text/plain": [
       "(174, 174)"
      ]
     },
     "execution_count": 4,
     "metadata": {},
     "output_type": "execute_result"
    }
   ],
   "source": [
    "B = np.dot(A.transpose(),A)\n",
    "B.shape"
   ]
  },
  {
   "cell_type": "code",
   "execution_count": 5,
   "metadata": {
    "collapsed": false
   },
   "outputs": [
    {
     "data": {
      "text/plain": [
       "<matplotlib.image.AxesImage at 0x110a362d0>"
      ]
     },
     "execution_count": 5,
     "metadata": {},
     "output_type": "execute_result"
    },
    {
     "data": {
      "image/png": "[encoded data removed]",
      "text/plain": [
       "<matplotlib.figure.Figure at 0x10d646710>"
      ]
     },
     "metadata": {},
     "output_type": "display_data"
    }
   ],
   "source": [
    "C = (B==0)\n",
    "ExclMat = C.astype(int) \n",
    "for i in range(0,174): \n",
    "    for j in range(0,174):\n",
    "        if i==j:\n",
    "            ExclMat[i,j]=1\n",
    "            \n",
    "plt.spy(ExclMat) \n",
    "plt.show()\n"
   ]
  },
  {
   "cell_type": "code",
   "execution_count": 6,
   "metadata": {
    "collapsed": false
   },
   "outputs": [
    {
     "data": {
      "text/plain": [
       "<matplotlib.image.AxesImage at 0x1112918d0>"
      ]
     },
     "execution_count": 6,
     "metadata": {},
     "output_type": "execute_result"
    },
    {
     "data": {
      "image/png": "[encoded data removed]",
      "text/plain": [
       "<matplotlib.figure.Figure at 0x10d652690>"
      ]
     },
     "metadata": {},
     "output_type": "display_data"
    },
    {
     "data": {
      "text/plain": [
       "(36, 36)"
      ]
     },
     "execution_count": 6,
     "metadata": {},
     "output_type": "execute_result"
    }
   ],
   "source": [
    "Emotion = ExclMat[0:36,0:36] #emotion variable \n",
    "plt.spy(Emotion)\n",
    "plt.show()\n",
    "Emotion.shape"
   ]
  },
  {
   "cell_type": "code",
   "execution_count": 7,
   "metadata": {
    "collapsed": false
   },
   "outputs": [
    {
     "name": "stdout",
     "output_type": "stream",
     "text": [
      "(502, 18)\n"
     ]
    },
    {
     "data": {
      "text/plain": [
       "array([[ 1.,  0.,  0., ...,  0.,  1.,  0.],\n",
       "       [ 1.,  0.,  1., ...,  0.,  0.,  0.],\n",
       "       [ 1.,  1.,  1., ...,  1.,  1.,  1.],\n",
       "       ..., \n",
       "       [ 1.,  0.,  1., ...,  1.,  1.,  0.],\n",
       "       [ 1.,  0.,  1., ...,  1.,  1.,  0.],\n",
       "       [ 1.,  1.,  1., ...,  1.,  1.,  0.]])"
      ]
     },
     "execution_count": 7,
     "metadata": {},
     "output_type": "execute_result"
    },
    {
     "data": {
      "text/plain": [
       "array([ 367.,  253.,  318.,  302.,  261.,  287.,  233.,  264.,  270.,\n",
       "        270.,  279.,  306.,  251.,  238.,  225.,  279.,  310.,  294.])"
      ]
     },
     "execution_count": 7,
     "metadata": {},
     "output_type": "execute_result"
    }
   ],
   "source": [
    "Emotion_data = A[:,0:36]\n",
    "T =np.zeros((Emotion_data.shape[0],1),dtype=np.int);\n",
    "for i in range(0,Emotion_data.shape[1]):\n",
    "    if i%2==1: \n",
    "        temp = A[:,i]+A[:,i-1]\n",
    "        T = np.c_[T,temp]\n",
    "T=np.delete(T,0,1)\n",
    "print T.shape\n",
    "T\n",
    "X = np.sum(T,0)\n",
    "X"
   ]
  },
  {
   "cell_type": "code",
   "execution_count": 8,
   "metadata": {
    "collapsed": false
   },
   "outputs": [
    {
     "data": {
      "text/plain": [
       "<matplotlib.image.AxesImage at 0x1113d6610>"
      ]
     },
     "execution_count": 8,
     "metadata": {},
     "output_type": "execute_result"
    },
    {
     "data": {
      "image/png": "[encoded data removed]",
      "text/plain": [
       "<matplotlib.figure.Figure at 0x11133bf10>"
      ]
     },
     "metadata": {},
     "output_type": "display_data"
    }
   ],
   "source": [
    "Song = ExclMat[91:118,91:118]\n",
    "plt.spy(Song)\n",
    "plt.show()"
   ]
  },
  {
   "cell_type": "code",
   "execution_count": 9,
   "metadata": {
    "collapsed": false
   },
   "outputs": [
    {
     "data": {
      "text/plain": [
       "<matplotlib.image.AxesImage at 0x11161c610>"
      ]
     },
     "execution_count": 9,
     "metadata": {},
     "output_type": "execute_result"
    },
    {
     "data": {
      "image/png": "[encoded data removed]",
      "text/plain": [
       "<matplotlib.figure.Figure at 0x111246ad0>"
      ]
     },
     "metadata": {},
     "output_type": "display_data"
    }
   ],
   "source": [
    "Genre = ExclMat[150:165,150:165] # genre variable \n",
    "plt.spy(Genre)\n",
    "plt.show()"
   ]
  },
  {
   "cell_type": "code",
   "execution_count": 10,
   "metadata": {
    "collapsed": false
   },
   "outputs": [
    {
     "name": "stdout",
     "output_type": "stream",
     "text": [
      "[ 0.  1.  1.  0.  0.  1.  0.  1.  0.  0.  0.  0.  0.  1.  1.  1.  1.  0.\n",
      "  1.  1.  1.  1.  1.  0.  1.  0.  0.  1.  0.  0.  0.  1.  0.  1.  1.  0.\n",
      "  1.  0.  0.  1.  1.  1.  0.  0.  0.  0.  0.  1.  1.  1.  1.  1.  1.  0.\n",
      "  0.  0.  1.  0.  0.  0.  1.  1.  0.  0.  0.  1.  0.  1.  0.  1.  1.  0.\n",
      "  1.  1.  0.  0.  1.  0.  0.  1.  0.  0.  1.  1.  2.  0.  1.  0.  0.  0.\n",
      "  1.  1.  0.  1.  1.  1.  1.  0.  0.  1.  1.  0.  0.  1.  1.  1.  1.  1.\n",
      "  1.  0.  0.  0.  1.  1.  1.  1.  0.  0.  1.  0.  1.  0.  1.  1.  0.  1.\n",
      "  0.  0.  0.  0.  1.  1.  1.  1.  1.  0.  1.  1.  1.  0.  0.  1.  0.  1.\n",
      "  0.  0.  2.  1.  0.  1.  1.  1.  0.  2.  0.  0.  1.  1.  1.  1.  1.  1.\n",
      "  0.  0.  0.  0.  1.  1.  1.  1.  1.  1.  1.  1.  0.  0.  0.  1.  1.  1.\n",
      "  0.  0.  1.  1.  1.  1.  1.  1.  2.  1.  1.  0.  0.  1.  0.  1.  1.  0.\n",
      "  1.  0.  0.  1.  0.  1.  1.  1.  0.  1.  0.  1.  1.  0.  1.  1.  0.  0.\n",
      "  1.  0.  0.  0.  0.  0.  0.  1.  0.  1.  1.  1.  0.  1.  1.  0.  1.  0.\n",
      "  1.  0.  1.  0.  0.  1.  0.  1.  1.  0.  0.  0.  0.  0.  0.  1.  1.  0.\n",
      "  3.  0.  1.  0.  1.  0.  1.  0.  0.  1.  0.  0.  0.  1.  1.  0.  1.  0.\n",
      "  0.  0.  1.  0.  0.  1.  1.  1.  0.  1.  0.  0.  1.  1.  1.  1.  1.  0.\n",
      "  1.  1.  0.  1.  0.  1.  1.  1.  1.  1.  1.  0.  0.  1.  1.  0.  0.  1.\n",
      "  1.  0.  0.  0.  1.  0.  0.  0.  0.  1.  0.  1.  1.  0.  0.  1.  0.  0.\n",
      "  1.  0.  0.  1.  0.  1.  1.  1.  0.  1.  0.  1.  1.  1.  0.  0.  0.  0.\n",
      "  0.  0.  0.  1.  1.  1.  0.  1.  1.  0.  0.  0.  0.  0.  0.  0.  1.  1.\n",
      "  0.  0.  1.  0.  0.  0.  1.  1.  0.  1.  1.  0.  1.  0.  0.  0.  1.  1.\n",
      "  1.  0.  1.  1.  1.  1.  0.  1.  1.  1.  0.  1.  1.  1.  1.  0.  1.  0.\n",
      "  1.  0.  1.  0.  1.  1.  1.  1.  1.  1.  0.  0.  1.  1.  1.  0.  1.  1.\n",
      "  1.  1.  0.  0.  1.  0.  1.  0.  1.  0.  0.  0.  1.  0.  1.  0.  0.  1.\n",
      "  0.  1.  0.  1.  1.  1.  1.  0.  2.  1.  0.  1.  1.  0.  0.  1.  1.  1.\n",
      "  1.  1.  1.  0.  0.  0.  0.  1.  1.  0.  1.  0.  1.  0.  1.  0.  0.  1.\n",
      "  1.  0.  1.  0.  0.  1.  0.  0.  1.  2.  1.  0.  1.  0.  1.  1.  1.  1.\n",
      "  0.  1.  1.  1.  0.  1.  0.  0.  1.  2.  1.  0.  0.  1.  0.  0.]\n"
     ]
    },
    {
     "data": {
      "text/plain": [
       "(array([  1,   2,   5,   7,  13,  14,  15,  16,  18,  19,  20,  21,  22,\n",
       "         24,  27,  31,  33,  34,  36,  39,  40,  41,  47,  48,  49,  50,\n",
       "         51,  52,  56,  60,  61,  65,  67,  69,  70,  72,  73,  76,  79,\n",
       "         82,  83,  86,  90,  91,  93,  94,  95,  96,  99, 100, 103, 104,\n",
       "        105, 106, 107, 108, 112, 113, 114, 115, 118, 120, 122, 123, 125,\n",
       "        130, 131, 132, 133, 134, 136, 137, 138, 141, 143, 147, 149, 150,\n",
       "        151, 156, 157, 158, 159, 160, 161, 166, 167, 168, 169, 170, 171,\n",
       "        172, 173, 177, 178, 179, 182, 183, 184, 185, 186, 187, 189, 190,\n",
       "        193, 195, 196, 198, 201, 203, 204, 205, 207, 209, 210, 212, 213,\n",
       "        216, 223, 225, 226, 227, 229, 230, 232, 234, 236, 239, 241, 242,\n",
       "        249, 250, 254, 256, 258, 261, 265, 266, 268, 272, 275, 276, 277,\n",
       "        279, 282, 283, 284, 285, 286, 288, 289, 291, 293, 294, 295, 296,\n",
       "        297, 298, 301, 302, 305, 306, 310, 315, 317, 318, 321, 324, 327,\n",
       "        329, 330, 331, 333, 335, 336, 337, 345, 346, 347, 349, 350, 358,\n",
       "        359, 362, 366, 367, 369, 370, 372, 376, 377, 378, 380, 381, 382,\n",
       "        383, 385, 386, 387, 389, 390, 391, 392, 394, 396, 398, 400, 401,\n",
       "        402, 403, 404, 405, 408, 409, 410, 412, 413, 414, 415, 418, 420,\n",
       "        422, 426, 428, 431, 433, 435, 436, 437, 438, 441, 443, 444, 447,\n",
       "        448, 449, 450, 451, 452, 457, 458, 460, 462, 464, 467, 468, 470,\n",
       "        473, 476, 478, 480, 482, 483, 484, 485, 487, 488, 489, 491, 494,\n",
       "        496, 499]),)"
      ]
     },
     "execution_count": 10,
     "metadata": {},
     "output_type": "execute_result"
    },
    {
     "data": {
      "text/plain": [
       "(262,)"
      ]
     },
     "execution_count": 10,
     "metadata": {},
     "output_type": "execute_result"
    }
   ],
   "source": [
    "Genre_data =A[:,150:165]\n",
    "Y = np.sum(Genre_data, axis=1)\n",
    "print Y  #test if those variable follow multinomial distribution \n",
    "np.where(Y==1)\n",
    "np.where(Y==1)[0].shape"
   ]
  },
  {
   "cell_type": "code",
   "execution_count": 11,
   "metadata": {
    "collapsed": false
   },
   "outputs": [
    {
     "data": {
      "text/plain": [
       "<matplotlib.image.AxesImage at 0x1117b4c90>"
      ]
     },
     "execution_count": 11,
     "metadata": {},
     "output_type": "execute_result"
    },
    {
     "data": {
      "image/png": "[encoded data removed]",
      "text/plain": [
       "<matplotlib.figure.Figure at 0x1116ceed0>"
      ]
     },
     "metadata": {},
     "output_type": "display_data"
    }
   ],
   "source": [
    "Genre1 = ExclMat[37:67,37:67]\n",
    "plt.spy(Genre1)\n",
    "plt.show()"
   ]
  },
  {
   "cell_type": "code",
   "execution_count": 12,
   "metadata": {
    "collapsed": false
   },
   "outputs": [],
   "source": [
    "norm = np.sum(ExclMat,axis = 0)\n",
    "a =  np.divide(np.ones(len(ExclMat)), norm)\n",
    "b = np.sqrt(a)\n",
    "D_inv = np.diag(b)\n",
    "Lap = np.eye(len(ExclMat)) - np.dot(np.dot(D_inv,ExclMat),D_inv)"
   ]
  },
  {
   "cell_type": "code",
   "execution_count": 13,
   "metadata": {
    "collapsed": false
   },
   "outputs": [],
   "source": [
    "w,v = LA.eigh(Lap)"
   ]
  },
  {
   "cell_type": "code",
   "execution_count": 14,
   "metadata": {
    "collapsed": false
   },
   "outputs": [
    {
     "data": {
      "text/plain": [
       "[<matplotlib.lines.Line2D at 0x112658050>]"
      ]
     },
     "execution_count": 14,
     "metadata": {},
     "output_type": "execute_result"
    },
    {
     "data": {
      "image/png": "[encoded data removed]",
      "text/plain": [
       "<matplotlib.figure.Figure at 0x11185e910>"
      ]
     },
     "metadata": {},
     "output_type": "display_data"
    }
   ],
   "source": [
    "x = v[0:2]\n",
    "\n",
    "plt.plot(v[1],v[2],'ro')\n",
    "plt.show()"
   ]
  },
  {
   "cell_type": "code",
   "execution_count": 15,
   "metadata": {
    "collapsed": false
   },
   "outputs": [
    {
     "name": "stdout",
     "output_type": "stream",
     "text": [
      "[0 1 0 0 0 0 0 1 0 0 2 1 0 1 2 1 2 1 2 2 0 1 1 2 0 1 0 0 0 0 1 1 1 0 1 1 1\n",
      " 0 0 1 0 1 0 1 0 1 0 0 0 1 0 1 1 0 0 0 1 1 1 1 0 0 1 0 0 0 1 1 1 0 1 1 0 1\n",
      " 1 1 1 0 0 1 1 0 0 0 0 1 1 1 1 0 0 1 0 0 1 1 0 1 0 1 0 0 1 0 1 0 1 0 1 1 0\n",
      " 1 0 1 0 0 0 1 1 0 1 0 0 1 0 0 1 0 0 1 1 1 0 0 0 1 1 1 0 1 0 0 1 1 0 0 0 0\n",
      " 1 0 1 0 0 0 1 1 0 0 1 0 0 1 0 0 0 1 1 1 0 0 1 1 0 1]\n"
     ]
    }
   ],
   "source": [
    "X = np.transpose([v[1],v[2]])\n",
    "kmeans = KMeans(n_clusters=3, random_state=0).fit(X)\n",
    "classes = kmeans.labels_\n",
    "print classes"
   ]
  },
  {
   "cell_type": "code",
   "execution_count": 16,
   "metadata": {
    "collapsed": false
   },
   "outputs": [
    {
     "name": "stdout",
     "output_type": "stream",
     "text": [
      "[  0   2   3   4   5   6   8   9  12  20  24  26  27  28  29  33  37  38\n",
      "  40  42  44  46  47  48  50  53  54  55  60  61  63  64  65  69  72  77\n",
      "  78  81  82  83  84  89  90  92  93  96  98 100 101 103 105 107 110 112\n",
      " 114 115 116 119 121 122 124 125 127 128 132 133 134 138 140 141 144 145\n",
      " 146 147 149 151 152 153 156 157 159 160 162 163 164 168 169 172]\n",
      "88\n",
      "[  1   7  11  13  15  17  21  22  25  30  31  32  34  35  36  39  41  43\n",
      "  45  49  51  52  56  57  58  59  62  66  67  68  70  71  73  74  75  76\n",
      "  79  80  85  86  87  88  91  94  95  97  99 102 104 106 108 109 111 113\n",
      " 117 118 120 123 126 129 130 131 135 136 137 139 142 143 148 150 154 155\n",
      " 158 161 165 166 167 170 171 173]\n",
      "80\n",
      "[10 14 16 18 19 23]\n",
      "6\n"
     ]
    }
   ],
   "source": [
    "ind0 = np.where(classes==0)[0]\n",
    "print ind0 \n",
    "print len(ind0)\n",
    "ind1 = np.where(classes ==1)[0]\n",
    "print ind1\n",
    "print len(ind1)\n",
    "ind2 = np.where(classes ==2)[0]\n",
    "print ind2\n",
    "print len(ind2)"
   ]
  },
  {
   "cell_type": "code",
   "execution_count": 17,
   "metadata": {
    "collapsed": false
   },
   "outputs": [
    {
     "name": "stdout",
     "output_type": "stream",
     "text": [
      "[[1 0 0 ..., 1 1 1]\n",
      " [0 1 1 ..., 1 0 0]\n",
      " [0 1 1 ..., 0 0 0]\n",
      " ..., \n",
      " [1 1 0 ..., 1 1 0]\n",
      " [1 0 0 ..., 1 1 0]\n",
      " [1 0 0 ..., 0 0 1]]\n",
      "(88, 88)\n"
     ]
    },
    {
     "data": {
      "text/plain": [
       "<matplotlib.image.AxesImage at 0x1127d9f90>"
      ]
     },
     "execution_count": 17,
     "metadata": {},
     "output_type": "execute_result"
    },
    {
     "data": {
      "image/png": "[encoded data removed]",
      "text/plain": [
       "<matplotlib.figure.Figure at 0x11183aad0>"
      ]
     },
     "metadata": {},
     "output_type": "display_data"
    }
   ],
   "source": [
    "y = ExclMat[np.ix_(ind0,ind0)]\n",
    "print y\n",
    "print y.shape\n",
    "plt.spy(y)\n",
    "plt.show()"
   ]
  },
  {
   "cell_type": "code",
   "execution_count": 18,
   "metadata": {
    "collapsed": false
   },
   "outputs": [
    {
     "name": "stdout",
     "output_type": "stream",
     "text": [
      "[[1 0 0 ..., 0 0 0]\n",
      " [0 1 0 ..., 0 0 0]\n",
      " [0 0 1 ..., 0 0 0]\n",
      " ..., \n",
      " [0 0 0 ..., 1 0 0]\n",
      " [0 0 0 ..., 0 1 0]\n",
      " [0 0 0 ..., 0 0 1]]\n",
      "(80, 80)\n"
     ]
    },
    {
     "data": {
      "text/plain": [
       "<matplotlib.image.AxesImage at 0x1129f8c90>"
      ]
     },
     "execution_count": 18,
     "metadata": {},
     "output_type": "execute_result"
    },
    {
     "data": {
      "image/png": "[encoded data removed]",
      "text/plain": [
       "<matplotlib.figure.Figure at 0x11185e6d0>"
      ]
     },
     "metadata": {},
     "output_type": "display_data"
    }
   ],
   "source": [
    "y = ExclMat[np.ix_(ind1,ind1)]\n",
    "print y\n",
    "print y.shape\n",
    "plt.spy(y)\n",
    "plt.show()"
   ]
  },
  {
   "cell_type": "code",
   "execution_count": 19,
   "metadata": {
    "collapsed": false
   },
   "outputs": [
    {
     "name": "stdout",
     "output_type": "stream",
     "text": [
      "[[1 0 0 0 0 0]\n",
      " [0 1 0 0 0 0]\n",
      " [0 0 1 0 0 0]\n",
      " [0 0 0 1 1 0]\n",
      " [0 0 0 1 1 0]\n",
      " [0 0 0 0 0 1]]\n",
      "(6, 6)\n"
     ]
    },
    {
     "data": {
      "text/plain": [
       "<matplotlib.image.AxesImage at 0x112ba0190>"
      ]
     },
     "execution_count": 19,
     "metadata": {},
     "output_type": "execute_result"
    },
    {
     "data": {
      "image/png": "[encoded data removed]",
      "text/plain": [
       "<matplotlib.figure.Figure at 0x11269e2d0>"
      ]
     },
     "metadata": {},
     "output_type": "display_data"
    }
   ],
   "source": [
    "y = ExclMat[np.ix_(ind2,ind2)]\n",
    "print y\n",
    "print y.shape\n",
    "plt.spy(y)\n",
    "plt.show()"
   ]
  },
  {
   "cell_type": "code",
   "execution_count": 20,
   "metadata": {
    "collapsed": false
   },
   "outputs": [],
   "source": [
    "G = nx.from_numpy_matrix(ExclMat)\n",
    "X = nx.find_cliques(G)\n",
    "Y = list(X) \n"
   ]
  },
  {
   "cell_type": "code",
   "execution_count": 21,
   "metadata": {
    "collapsed": false
   },
   "outputs": [
    {
     "name": "stdout",
     "output_type": "stream",
     "text": [
      "[173, 166, 39, 151, 172, 155, 146, 137, 162, 164, 165, 47]\n"
     ]
    }
   ],
   "source": [
    "max_clique = 0 \n",
    "max_index =0\n",
    "for y in Y: \n",
    "    if y > max_clique:\n",
    "        max_clique = y \n",
    "        max_index =y.index\n",
    "print max_clique; \n"
   ]
  },
  {
   "cell_type": "code",
   "execution_count": 22,
   "metadata": {
    "collapsed": false
   },
   "outputs": [
    {
     "name": "stdout",
     "output_type": "stream",
     "text": [
      "[[   0.  367.    0. ...,    0.   58.   54.]\n",
      " [ 367.    0.    0. ...,    0.    0.    0.]\n",
      " [   0.    0.    0. ...,    0.    0.    0.]\n",
      " ..., \n",
      " [   0.    0.    0. ...,    0.    0.    0.]\n",
      " [  58.    0.    0. ...,    0.    0.   16.]\n",
      " [  54.    0.    0. ...,    0.   16.    0.]]\n"
     ]
    },
    {
     "data": {
      "text/plain": [
       "<matplotlib.image.AxesImage at 0x1112644d0>"
      ]
     },
     "execution_count": 22,
     "metadata": {},
     "output_type": "execute_result"
    },
    {
     "data": {
      "image/png": "[encoded data removed]",
      "text/plain": [
       "<matplotlib.figure.Figure at 0x112ab5890>"
      ]
     },
     "metadata": {},
     "output_type": "display_data"
    },
    {
     "data": {
      "text/plain": [
       "453.0"
      ]
     },
     "execution_count": 22,
     "metadata": {},
     "output_type": "execute_result"
    },
    {
     "name": "stdout",
     "output_type": "stream",
     "text": [
      "109 110 453.0\n",
      "\"SongRecorded01\"\n",
      "\"NOTSongRecorded01\"\n",
      "\n"
     ]
    }
   ],
   "source": [
    "acc = np.zeros(ExclMat.shape); \n",
    "for i in range(0,ExclMat.shape[0]):\n",
    "    for j in range(0,ExclMat.shape[1]):\n",
    "        if ExclMat[i,j] ==1 and i!=j:\n",
    "            temp = A[:,i] + A[:,j]\n",
    "            acc[i,j] = sum(temp) \n",
    "print acc\n",
    "plt.spy(acc)\n",
    "plt.show()\n",
    "i,j = np.unravel_index(acc.argmax(), acc.shape)\n",
    "acc[i,j]\n",
    "print i,j, acc[i,j]\n",
    "print label[i],label[j]"
   ]
  },
  {
   "cell_type": "code",
   "execution_count": 23,
   "metadata": {
    "collapsed": false
   },
   "outputs": [
    {
     "name": "stdout",
     "output_type": "stream",
     "text": [
      "109 110 453.0\n",
      "\"SongRecorded01\"\n",
      "\"NOTSongRecorded01\"\n",
      "\n",
      "0 1 367.0\n",
      "\"EmotionAngryAgressive01\"\n",
      "\"NOTEmotionAngryAgressive01\"\n",
      "\n",
      "48 112 333.0\n",
      "\"GenreGospel01\"\n",
      "\"SongTextureElectric01\"\n",
      "\n",
      "1 151 329.0\n",
      "\"NOTEmotionAngryAgressive01\"\n",
      "\"GenreBestMetalHardRock01\"\n",
      "\n",
      "1 152 328.0\n",
      "\"NOTEmotionAngryAgressive01\"\n",
      "\"GenreBestPunk01\"\n",
      "\n",
      "99 100 324.0\n",
      "\"SongHighEnergy01\"\n",
      "\"NOTSongHighEnergy01\"\n",
      "\n",
      "4 5 318.0\n",
      "\"EmotionBizarreWeird01\"\n",
      "\"NOTEmotionBizarreWeird01\"\n",
      "\n",
      "72 157 315.0\n",
      "\"InstrumentDrumSet01\"\n",
      "\"GenreBestElectronica01\"\n",
      "\n",
      "116 117 314.0\n",
      "\"SongVeryDanceable01\"\n",
      "\"NOTSongVeryDanceable01\"\n",
      "\n",
      "32 33 310.0\n",
      "\"EmotionTenderSoft01\"\n",
      "\"NOTEmotionTenderSoft01\"\n",
      "\n",
      "5 146 306.0\n",
      "\"NOTEmotionBizarreWeird01\"\n",
      "\"VocalsSpoken01\"\n",
      "\n",
      "22 23 306.0\n",
      "\"EmotionLovingRomantic01\"\n",
      "\"NOTEmotionLovingRomantic01\"\n",
      "\n",
      "6 7 302.0\n",
      "\"EmotionCalmingSoothing01\"\n",
      "\"NOTEmotionCalmingSoothing01\"\n",
      "\n",
      "105 106 300.0\n",
      "\"SongQuality01\"\n",
      "\"NOTSongQuality01\"\n",
      "\n",
      "8 21 296.0\n",
      "\"EmotionCarefreeLighthearted01\"\n",
      "\"NOTEmotionLightPlayful01\"\n",
      "\n",
      "22 35 295.0\n",
      "\"EmotionLovingRomantic01\"\n",
      "\"NOTEmotionTouchingLoving01\"\n",
      "\n",
      "34 35 294.0\n",
      "\"EmotionTouchingLoving01\"\n",
      "\"NOTEmotionTouchingLoving01\"\n",
      "\n",
      "72 164 291.0\n",
      "\"InstrumentDrumSet01\"\n",
      "\"GenreBestWorld01\"\n",
      "\n",
      "10 11 287.0\n",
      "\"EmotionCheerfulFestive01\"\n",
      "\"NOTEmotionCheerfulFestive01\"\n",
      "\n",
      "111 152 287.0\n",
      "\"SongTextureAcoustic01\"\n",
      "\"GenreBestPunk01\"\n",
      "\n",
      "20 21 279.0\n",
      "\"EmotionLightPlayful01\"\n",
      "\"NOTEmotionLightPlayful01\"\n",
      "\n",
      "30 31 279.0\n",
      "\"EmotionSad01\"\n",
      "\"NOTEmotionSad01\"\n",
      "\n",
      "16 17 270.0\n",
      "\"EmotionHappy01\"\n",
      "\"NOTEmotionHappy01\"\n",
      "\n",
      "18 19 270.0\n",
      "\"EmotionLaidbackMellow01\"\n",
      "\"NOTEmotionLaidbackMellow01\"\n",
      "\n",
      "95 96 270.0\n",
      "\"SongFastTempo01\"\n",
      "\"NOTSongFastTempo01\"\n",
      "\n",
      "45 117 267.0\n",
      "\"GenreDancePop01\"\n",
      "\"NOTSongVeryDanceable01\"\n",
      "\n",
      "14 15 264.0\n",
      "\"EmotionExcitingThrilling01\"\n",
      "\"NOTEmotionExcitingThrilling01\"\n",
      "\n",
      "8 9 261.0\n",
      "\"EmotionCarefreeLighthearted01\"\n",
      "\"NOTEmotionCarefreeLighthearted01\"\n",
      "\n",
      "7 32 258.0\n",
      "\"NOTEmotionCalmingSoothing01\"\n",
      "\"EmotionTenderSoft01\"\n",
      "\n",
      "2 3 253.0\n",
      "\"EmotionArousingAwakening01\"\n",
      "\"NOTEmotionArousingAwakening01\"\n",
      "\n",
      "117 168 253.0\n",
      "\"NOTSongVeryDanceable01\"\n",
      "\"InstrumentFemaleLeadVocalsSolo01\"\n",
      "\n",
      "38 117 252.0\n",
      "\"GenreBebop01\"\n",
      "\"NOTSongVeryDanceable01\"\n",
      "\n",
      "24 25 251.0\n",
      "\"EmotionPleasantComfortable01\"\n",
      "\"NOTEmotionPleasantComfortable01\"\n",
      "\n",
      "55 117 251.0\n",
      "\"GenreSwing01\"\n",
      "\"NOTSongVeryDanceable01\"\n",
      "\n",
      "103 104 250.0\n",
      "\"SongPositiveFeelings01\"\n",
      "\"NOTSongPositiveFeelings01\"\n",
      "\n",
      "23 78 248.0\n",
      "\"NOTEmotionLovingRomantic01\"\n",
      "\"InstrumentHornSection01\"\n",
      "\n",
      "91 92 246.0\n",
      "\"SongCatchyMemorable01\"\n",
      "\"NOTSongCatchyMemorable01\"\n",
      "\n",
      "8 17 244.0\n",
      "\"EmotionCarefreeLighthearted01\"\n",
      "\"NOTEmotionHappy01\"\n",
      "\n",
      "23 162 243.0\n",
      "\"NOTEmotionLovingRomantic01\"\n",
      "\"GenreBestRandB01\"\n",
      "\n",
      "10 17 242.0\n",
      "\"EmotionCheerfulFestive01\"\n",
      "\"NOTEmotionHappy01\"\n",
      "\n",
      "37 99 239.0\n",
      "\"GenreAlternativeFolk01\"\n",
      "\"SongHighEnergy01\"\n",
      "\n",
      "99 129 239.0\n",
      "\"SongHighEnergy01\"\n",
      "\"UsageSleeping01\"\n",
      "\n",
      "23 88 238.0\n",
      "\"NOTEmotionLovingRomantic01\"\n",
      "\"InstrumentTrombone01\"\n",
      "\n",
      "26 27 238.0\n",
      "\"EmotionPositiveOptimistic01\"\n",
      "\"NOTEmotionPositiveOptimistic01\"\n",
      "\n",
      "99 158 238.0\n",
      "\"SongHighEnergy01\"\n",
      "\"GenreBestFolk01\"\n",
      "\n",
      "97 98 237.0\n",
      "\"SongHeavyBeat01\"\n",
      "\"NOTSongHeavyBeat01\"\n",
      "\n",
      "93 94 236.0\n",
      "\"SongChangingEnergyLevel01\"\n",
      "\"NOTSongChangingEnergyLevel01\"\n",
      "\n",
      "23 154 235.0\n",
      "\"NOTEmotionLovingRomantic01\"\n",
      "\"GenreBestSoul01\"\n",
      "\n",
      "12 13 233.0\n",
      "\"EmotionEmotionalPassionate01\"\n",
      "\"NOTEmotionEmotionalPassionate01\"\n",
      "\n",
      "0 24 232.0\n",
      "\"EmotionAngryAgressive01\"\n",
      "\"EmotionPleasantComfortable01\"\n",
      "\n",
      "31 90 230.0\n",
      "\"NOTEmotionSad01\"\n",
      "\"InstrumentViolinFiddle01\"\n",
      "\n",
      "31 41 228.0\n",
      "\"NOTEmotionSad01\"\n",
      "\"GenreContemporaryBlues01\"\n",
      "\n",
      "8 27 227.0\n",
      "\"EmotionCarefreeLighthearted01\"\n",
      "\"NOTEmotionPositiveOptimistic01\"\n",
      "\n",
      "17 20 227.0\n",
      "\"NOTEmotionHappy01\"\n",
      "\"EmotionLightPlayful01\"\n",
      "\n",
      "35 48 226.0\n",
      "\"NOTEmotionTouchingLoving01\"\n",
      "\"GenreGospel01\"\n",
      "\n",
      "28 29 225.0\n",
      "\"EmotionPowerfulStrong01\"\n",
      "\"NOTEmotionPowerfulStrong01\"\n",
      "\n",
      "33 128 225.0\n",
      "\"NOTEmotionTenderSoft01\"\n",
      "\"UsageRomancing01\"\n",
      "\n",
      "35 80 225.0\n",
      "\"NOTEmotionTouchingLoving01\"\n",
      "\"InstrumentOrgan01\"\n",
      "\n",
      "35 173 225.0\n",
      "\"NOTEmotionTouchingLoving01\"\n",
      "\"InstrumentTrumpetSolo01\"\n",
      "35 55 224.0\n",
      "\"NOTEmotionTouchingLoving01\"\n",
      "\"GenreSwing01\"\n",
      "\n",
      "24 133 221.0\n",
      "\"EmotionPleasantComfortable01\"\n",
      "\"VocalsAggressive01\"\n",
      "\n",
      "101 102 219.0\n",
      "\"SongLike01\"\n",
      "\"NOTSongLike01\"\n",
      "\n",
      "19 124 217.0\n",
      "\"NOTEmotionLaidbackMellow01\"\n",
      "\"UsageGoingtosleep01\"\n",
      "\n",
      "3 14 216.0\n",
      "\"NOTEmotionArousingAwakening01\"\n",
      "\"EmotionExcitingThrilling01\"\n",
      "\n",
      "6 25 215.0\n",
      "\"EmotionCalmingSoothing01\"\n",
      "\"NOTEmotionPleasantComfortable01\"\n",
      "\n",
      "33 129 214.0\n",
      "\"NOTEmotionTenderSoft01\"\n",
      "\"UsageSleeping01\"\n",
      "\n",
      "33 48 213.0\n",
      "\"NOTEmotionTenderSoft01\"\n",
      "\"GenreGospel01\"\n",
      "\n",
      "33 132 211.0\n",
      "\"NOTEmotionTenderSoft01\"\n",
      "\"UsageWiththefamily01\"\n",
      "\n",
      "33 154 211.0\n",
      "\"NOTEmotionTenderSoft01\"\n",
      "\"GenreBestSoul01\"\n",
      "\n",
      "14 100 210.0\n",
      "\"EmotionExcitingThrilling01\"\n",
      "\"NOTSongHighEnergy01\"\n",
      "\n",
      "96 116 203.0\n",
      "\"NOTSongFastTempo01\"\n",
      "\"SongVeryDanceable01\"\n",
      "\n",
      "26 104 198.0\n",
      "\"EmotionPositiveOptimistic01\"\n",
      "\"NOTSongPositiveFeelings01\"\n",
      "\n",
      "0 6 196.0\n",
      "\"EmotionAngryAgressive01\"\n",
      "\"EmotionCalmingSoothing01\"\n",
      "\n",
      "21 39 196.0\n",
      "\"NOTEmotionLightPlayful01\"\n",
      "\"GenreBritPop01\"\n",
      "\n",
      "24 151 194.0\n",
      "\"EmotionPleasantComfortable01\"\n",
      "\"GenreBestMetalHardRock01\"\n",
      "\n",
      "16 30 193.0\n",
      "\"EmotionHappy01\"\n",
      "\"EmotionSad01\"\n",
      "\n",
      "21 169 193.0\n",
      "\"NOTEmotionLightPlayful01\"\n",
      "\"InstrumentHarmonicaSolo01\"\n",
      "\n",
      "24 152 193.0\n",
      "\"EmotionPleasantComfortable01\"\n",
      "\"GenreBestPunk01\"\n",
      "\n",
      "21 55 192.0\n",
      "\"NOTEmotionLightPlayful01\"\n",
      "\"GenreSwing01\"\n",
      "\n",
      "21 132 192.0\n",
      "\"NOTEmotionLightPlayful01\"\n",
      "\"UsageWiththefamily01\"\n",
      "\n",
      "21 154 192.0\n",
      "\"NOTEmotionLightPlayful01\"\n",
      "\"GenreBestSoul01\"\n",
      "\n",
      "24 143 190.0\n",
      "\"EmotionPleasantComfortable01\"\n",
      "\"VocalsMonotone01\"\n",
      "\n",
      "8 104 187.0\n",
      "\"EmotionCarefreeLighthearted01\"\n",
      "\"NOTSongPositiveFeelings01\"\n",
      "\n",
      "11 48 187.0\n",
      "\"NOTEmotionCheerfulFestive01\"\n",
      "\"GenreGospel01\"\n",
      "\n",
      "103 145 187.0\n",
      "\"SongPositiveFeelings01\"\n",
      "\"VocalsScreaming01\"\n",
      "\n",
      "4 101 186.0\n",
      "\"EmotionBizarreWeird01\"\n",
      "\"SongLike01\"\n",
      "\n",
      "6 133 185.0\n",
      "\"EmotionCalmingSoothing01\"\n",
      "\"VocalsAggressive01\"\n",
      "\n",
      "11 55 185.0\n",
      "\"NOTEmotionCheerfulFestive01\"\n",
      "\"GenreSwing01\"\n",
      "\n",
      "11 132 185.0\n",
      "\"NOTEmotionCheerfulFestive01\"\n",
      "\"UsageWiththefamily01\"\n",
      "\n",
      "66 70 185.0\n",
      "\"GenreWorld01\"\n",
      "\"InstrumentBass01\"\n",
      "\n",
      "15 133 184.0\n",
      "\"NOTEmotionExcitingThrilling01\"\n",
      "\"VocalsAggressive01\"\n",
      "\n",
      "107 108 183.0\n",
      "\"SongRecommend01\"\n",
      "\"NOTSongRecommend01\"\n",
      "\n",
      "14 29 182.0\n",
      "\"EmotionExcitingThrilling01\"\n",
      "\"NOTEmotionPowerfulStrong01\"\n",
      "\n",
      "2 153 181.0\n",
      "\"EmotionArousingAwakening01\"\n",
      "\"GenreBestSoftRock01\"\n",
      "\n",
      "89 113 181.0\n",
      "\"InstrumentTrumpet01\"\n",
      "\"SongTextureSynthesized01\"\n",
      "\n",
      "103 152 181.0\n",
      "\"SongPositiveFeelings01\"\n",
      "\"GenreBestPunk01\"\n",
      "\n",
      "6 49 180.0\n",
      "\"EmotionCalmingSoothing01\"\n",
      "\"GenreMetalHardRock01\"\n",
      "\n",
      "65 71 180.0\n",
      "\"GenreRock01\"\n",
      "\"InstrumentDrumMachine01\"\n",
      "\n",
      "70 164 180.0\n",
      "\"InstrumentBass01\"\n",
      "\"GenreBestWorld01\"\n",
      "\n",
      "15 49 179.0\n",
      "\"NOTEmotionExcitingThrilling01\"\n",
      "\"GenreMetalHardRock01\"\n",
      "\n"
     ]
    }
   ],
   "source": [
    "T =acc \n",
    "\n",
    "for k in range(100):\n",
    "    i,j = np.unravel_index(T.argmax(), T.shape)\n",
    "    print i,j, T[i,j]\n",
    "    print label[i],label[j]\n",
    "    T[i,j]=0\n",
    "    T[j,i]=0;\n"
   ]
  },
  {
   "cell_type": "code",
   "execution_count": 24,
   "metadata": {
    "collapsed": false
   },
   "outputs": [
    {
     "data": {
      "text/plain": [
       "(174, 174)"
      ]
     },
     "execution_count": 24,
     "metadata": {},
     "output_type": "execute_result"
    }
   ],
   "source": [
    "dist = np.dot(A.transpose(),A)\n",
    "dist.shape"
   ]
  },
  {
   "cell_type": "code",
   "execution_count": 25,
   "metadata": {
    "collapsed": false
   },
   "outputs": [
    {
     "name": "stdout",
     "output_type": "stream",
     "text": [
      "[[  48.    0.   28. ...,    1.    0.    0.]\n",
      " [   0.  319.   70. ...,   12.    7.    5.]\n",
      " [  28.   70.  154. ...,    4.    3.    4.]\n",
      " ..., \n",
      " [   1.   12.    4. ...,   14.    2.    1.]\n",
      " [   0.    7.    3. ...,    2.   10.    0.]\n",
      " [   0.    5.    4. ...,    1.    0.    6.]]\n"
     ]
    }
   ],
   "source": [
    "print dist"
   ]
  },
  {
   "cell_type": "code",
   "execution_count": 26,
   "metadata": {
    "collapsed": false
   },
   "outputs": [
    {
     "name": "stdout",
     "output_type": "stream",
     "text": [
      "[[  0.   0.  28. ...,   1.   0.   0.]\n",
      " [  0.   0.  70. ...,  12.   7.   5.]\n",
      " [ 28.  70.   0. ...,   4.   3.   4.]\n",
      " ..., \n",
      " [  1.  12.   4. ...,   0.   2.   1.]\n",
      " [  0.   7.   3. ...,   2.   0.   0.]\n",
      " [  0.   5.   4. ...,   1.   0.   0.]]\n"
     ]
    }
   ],
   "source": [
    "for i in range(dist.shape[0]):\n",
    "    dist[i,i]=0 \n",
    "print dist"
   ]
  },
  {
   "cell_type": "code",
   "execution_count": 27,
   "metadata": {
    "collapsed": false
   },
   "outputs": [
    {
     "name": "stdout",
     "output_type": "stream",
     "text": [
      "[[ 0.          0.          0.0112989  ...,  0.00131938  0.          0.        ]\n",
      " [ 0.          0.          0.01212994 ...,  0.00679883  0.0046564\n",
      "   0.00440754]\n",
      " [ 0.0112989   0.01212994  0.         ...,  0.00308161  0.00271355\n",
      "   0.00479458]\n",
      " ..., \n",
      " [ 0.00131938  0.00679883  0.00308161 ...,  0.          0.00591478\n",
      "   0.00391907]\n",
      " [ 0.          0.0046564   0.00271355 ...,  0.00591478  0.          0.        ]\n",
      " [ 0.          0.00440754  0.00479458 ...,  0.00391907  0.          0.        ]]\n"
     ]
    }
   ],
   "source": [
    "norm = np.sum(dist,axis = 0)\n",
    "a =  np.divide(np.ones(len(dist)), norm)\n",
    "b = np.sqrt(a)\n",
    "D_inv = np.diag(b)\n",
    "Lap = np.dot(np.dot(D_inv,dist),D_inv) \n",
    "print Lap"
   ]
  },
  {
   "cell_type": "code",
   "execution_count": 28,
   "metadata": {
    "collapsed": false
   },
   "outputs": [
    {
     "data": {
      "text/plain": [
       "[<matplotlib.lines.Line2D at 0x115a69390>]"
      ]
     },
     "execution_count": 28,
     "metadata": {},
     "output_type": "execute_result"
    },
    {
     "data": {
      "image/png": "[encoded data removed]",
      "text/plain": [
       "<matplotlib.figure.Figure at 0x10d642550>"
      ]
     },
     "metadata": {},
     "output_type": "display_data"
    }
   ],
   "source": [
    "w,v = LA.eigh(Lap)\n",
    "\n",
    "x = v[0:2]\n",
    "\n",
    "plt.plot(v[1],v[2],'ro')\n",
    "plt.show()"
   ]
  },
  {
   "cell_type": "code",
   "execution_count": 29,
   "metadata": {
    "collapsed": false
   },
   "outputs": [
    {
     "data": {
      "text/plain": [
       "[<matplotlib.lines.Line2D at 0x115c1eb50>]"
      ]
     },
     "execution_count": 29,
     "metadata": {},
     "output_type": "execute_result"
    },
    {
     "data": {
      "image/png": "[encoded data removed]",
      "text/plain": [
       "<matplotlib.figure.Figure at 0x10d645f90>"
      ]
     },
     "metadata": {},
     "output_type": "display_data"
    }
   ],
   "source": [
    "Lap = dist \n",
    "w,v = LA.eigh(Lap)\n",
    "\n",
    "x = v[0:2]\n",
    "plt.plot(v[1],v[2],'ro')\n",
    "plt.show()"
   ]
  },
  {
   "cell_type": "code",
   "execution_count": 30,
   "metadata": {
    "collapsed": false
   },
   "outputs": [
    {
     "name": "stdout",
     "output_type": "stream",
     "text": [
      "[[ 0.  0.  0.  0.  0.]\n",
      " [ 0.  1.  0.  0.  0.]\n",
      " [ 0.  0.  2.  0.  0.]\n",
      " [ 0.  0.  0.  3.  0.]\n",
      " [ 0.  0.  0.  0.  4.]]\n"
     ]
    },
    {
     "data": {
      "text/plain": [
       "<matplotlib.image.AxesImage at 0x115ce8a10>"
      ]
     },
     "execution_count": 30,
     "metadata": {},
     "output_type": "execute_result"
    },
    {
     "data": {
      "image/png": "[encoded data removed]",
      "text/plain": [
       "<matplotlib.figure.Figure at 0x10d641890>"
      ]
     },
     "metadata": {},
     "output_type": "display_data"
    },
    {
     "data": {
      "image/png": "[encoded data removed]",
      "text/plain": [
       "<matplotlib.figure.Figure at 0x115cab5d0>"
      ]
     },
     "metadata": {},
     "output_type": "display_data"
    }
   ],
   "source": [
    "test = np.zeros((5,5))\n",
    "for i in range(5):\n",
    "    test[i,i] = i \n",
    "print test\n",
    "plt.spy(test)\n",
    "plt.show()\n",
    "\n",
    "imgshow = plt.imshow(test,cmap = 'gray')"
   ]
  },
  {
   "cell_type": "code",
   "execution_count": 31,
   "metadata": {
    "collapsed": false
   },
   "outputs": [
    {
     "name": "stdout",
     "output_type": "stream",
     "text": [
      "[[ 0.    0.    0.   ...,  0.    0.58  0.  ]\n",
      " [ 0.    0.    0.   ...,  0.    0.    0.  ]\n",
      " [ 0.    0.    0.   ...,  0.    0.    0.  ]\n",
      " ..., \n",
      " [ 0.    0.    0.   ...,  0.    0.    0.  ]\n",
      " [ 0.58  0.    0.   ...,  0.    0.    0.  ]\n",
      " [ 0.    0.    0.   ...,  0.    0.    0.  ]]\n",
      "[[ 0.    0.    0.   ...,  0.    0.01  0.  ]\n",
      " [ 0.    0.    0.   ...,  0.    0.    0.  ]\n",
      " [ 0.    0.    0.   ...,  0.    0.    0.  ]\n",
      " ..., \n",
      " [ 0.    0.    0.   ...,  0.    0.    0.  ]\n",
      " [ 0.01  0.    0.   ...,  0.    0.    0.  ]\n",
      " [ 0.    0.    0.   ...,  0.    0.    0.  ]]\n"
     ]
    }
   ],
   "source": [
    "bal_ratio = np.zeros((acc.shape))\n",
    "acc_1 = np.zeros((acc.shape))\n",
    "\n",
    "for i in range(acc.shape[0]):\n",
    "    for j in range(acc.shape[1]):\n",
    "        if acc[i,j] != 0:\n",
    "            bal_ratio[i,j] = round(4*float(sum(A[:,i])*sum(A[:,j]))/ 502/502,2)\n",
    "            acc_1[i,j] = acc[i,j]*bal_ratio[i,j]\n",
    "print acc_1\n",
    "print bal_ratio\n",
    "\n"
   ]
  },
  {
   "cell_type": "code",
   "execution_count": 32,
   "metadata": {
    "collapsed": false
   },
   "outputs": [
    {
     "name": "stdout",
     "output_type": "stream",
     "text": [
      "13 32 0.12\n",
      "\"NOTEmotionEmotionalPassionate01\"\n",
      "\"EmotionTenderSoft01\"\n",
      "\n",
      "18 25 0.12\n",
      "\"EmotionLaidbackMellow01\"\n",
      "\"NOTEmotionPleasantComfortable01\"\n",
      "\n",
      "13 138 0.11\n",
      "\"NOTEmotionEmotionalPassionate01\"\n",
      "\"VocalsEmotional01\"\n",
      "\n",
      "20 104 0.11\n",
      "\"EmotionLightPlayful01\"\n",
      "\"NOTSongPositiveFeelings01\"\n",
      "\n",
      "26 30 0.11\n",
      "\"EmotionPositiveOptimistic01\"\n",
      "\"EmotionSad01\"\n",
      "\n",
      "98 118 0.11\n",
      "\"NOTSongHeavyBeat01\"\n",
      "\"UsageAtaparty01\"\n",
      "\n",
      "3 118 0.1\n",
      "\"NOTEmotionArousingAwakening01\"\n",
      "\"UsageAtaparty01\"\n",
      "\n",
      "8 30 0.1\n",
      "\"EmotionCarefreeLighthearted01\"\n",
      "\"EmotionSad01\"\n",
      "\n",
      "10 30 0.1\n",
      "\"EmotionCheerfulFestive01\"\n",
      "\"EmotionSad01\"\n",
      "\n",
      "13 22 0.09\n",
      "\"NOTEmotionEmotionalPassionate01\"\n",
      "\"EmotionLovingRomantic01\"\n",
      "\n",
      "13 34 0.09\n",
      "\"NOTEmotionEmotionalPassionate01\"\n",
      "\"EmotionTouchingLoving01\"\n",
      "\n",
      "92 116 0.09\n",
      "\"NOTSongCatchyMemorable01\"\n",
      "\"SongVeryDanceable01\"\n",
      "\n",
      "0 8 0.08\n",
      "\"EmotionAngryAgressive01\"\n",
      "\"EmotionCarefreeLighthearted01\"\n",
      "\n",
      "0 10 0.08\n",
      "\"EmotionAngryAgressive01\"\n",
      "\"EmotionCheerfulFestive01\"\n",
      "\n",
      "0 18 0.08\n",
      "\"EmotionAngryAgressive01\"\n",
      "\"EmotionLaidbackMellow01\"\n",
      "\n",
      "0 32 0.08\n",
      "\"EmotionAngryAgressive01\"\n",
      "\"EmotionTenderSoft01\"\n",
      "\n",
      "0 98 0.08\n",
      "\"EmotionAngryAgressive01\"\n",
      "\"NOTSongHeavyBeat01\"\n",
      "\n",
      "20 30 0.08\n",
      "\"EmotionLightPlayful01\"\n",
      "\"EmotionSad01\"\n",
      "\n",
      "25 34 0.08\n",
      "\"NOTEmotionPleasantComfortable01\"\n",
      "\"EmotionTouchingLoving01\"\n",
      "\n",
      "73 157 0.08\n",
      "\"InstrumentElectricGuitar(clean)01\"\n",
      "\"GenreBestElectronica01\"\n",
      "\n",
      "104 116 0.08\n",
      "\"NOTSongPositiveFeelings01\"\n",
      "\"SongVeryDanceable01\"\n",
      "\n",
      "13 30 0.07\n",
      "\"NOTEmotionEmotionalPassionate01\"\n",
      "\"EmotionSad01\"\n",
      "\n",
      "16 49 0.07\n",
      "\"EmotionHappy01\"\n",
      "\"GenreMetalHardRock01\"\n",
      "\n",
      "34 59 0.07\n",
      "\"EmotionTouchingLoving01\"\n",
      "\"GenreElectronica01\"\n",
      "\n",
      "58 97 0.07\n",
      "\"GenreCountry01\"\n",
      "\"SongHeavyBeat01\"\n",
      "\n",
      "102 107 0.07\n",
      "\"NOTSongLike01\"\n",
      "\"SongRecommend01\"\n",
      "\n",
      "0 22 0.06\n",
      "\"EmotionAngryAgressive01\"\n",
      "\"EmotionLovingRomantic01\"\n",
      "\n",
      "0 34 0.06\n",
      "\"EmotionAngryAgressive01\"\n",
      "\"EmotionTouchingLoving01\"\n",
      "\n",
      "8 49 0.06\n",
      "\"EmotionCarefreeLighthearted01\"\n",
      "\"GenreMetalHardRock01\"\n",
      "\n",
      "8 133 0.06\n",
      "\"EmotionCarefreeLighthearted01\"\n",
      "\"VocalsAggressive01\"\n",
      "\n",
      "13 53 0.06\n",
      "\"NOTEmotionEmotionalPassionate01\"\n",
      "\"GenreSoftRock01\"\n",
      "\n",
      "14 58 0.06\n",
      "\"EmotionExcitingThrilling01\"\n",
      "\"GenreCountry01\"\n",
      "\n",
      "14 60 0.06\n",
      "\"EmotionExcitingThrilling01\"\n",
      "\"GenreFolk01\"\n",
      "\n",
      "18 49 0.06\n",
      "\"EmotionLaidbackMellow01\"\n",
      "\"GenreMetalHardRock01\"\n",
      "\n",
      "18 133 0.06\n",
      "\"EmotionLaidbackMellow01\"\n",
      "\"VocalsAggressive01\"\n",
      "\n",
      "18 163 0.06\n",
      "\"EmotionLaidbackMellow01\"\n",
      "\"GenreBestRock01\"\n",
      "\n",
      "25 124 0.06\n",
      "\"NOTEmotionPleasantComfortable01\"\n",
      "\"UsageGoingtosleep01\"\n",
      "\n",
      "26 49 0.06\n",
      "\"EmotionPositiveOptimistic01\"\n",
      "\"GenreMetalHardRock01\"\n",
      "\n",
      "26 68 0.06\n",
      "\"EmotionPositiveOptimistic01\"\n",
      "\"InstrumentAmbientSounds01\"\n",
      "\n",
      "32 133 0.06\n",
      "\"EmotionTenderSoft01\"\n",
      "\"VocalsAggressive01\"\n",
      "\n",
      "32 163 0.06\n",
      "\"EmotionTenderSoft01\"\n",
      "\"GenreBestRock01\"\n",
      "\n",
      "40 71 0.06\n",
      "\"GenreClassicRock01\"\n",
      "\"InstrumentDrumMachine01\"\n",
      "\n",
      "40 84 0.06\n",
      "\"GenreClassicRock01\"\n",
      "\"InstrumentSequencer01\"\n",
      "\n",
      "40 157 0.06\n",
      "\"GenreClassicRock01\"\n",
      "\"GenreBestElectronica01\"\n",
      "\n",
      "54 65 0.06\n",
      "\"GenreSoul01\"\n",
      "\"GenreRock01\"\n",
      "\n",
      "60 97 0.06\n",
      "\"GenreFolk01\"\n",
      "\"SongHeavyBeat01\"\n",
      "\n",
      "75 170 0.06\n",
      "\"InstrumentFemaleLeadVocals01\"\n",
      "\"InstrumentMaleLeadVocalsSolo01\"\n",
      "\n",
      "98 133 0.06\n",
      "\"NOTSongHeavyBeat01\"\n",
      "\"VocalsAggressive01\"\n",
      "\n",
      "114 115 0.06\n",
      "\"SongTonality01\"\n",
      "\"NOTSongTonality01\"\n",
      "\n",
      "124 147 0.06\n",
      "\"UsageGoingtosleep01\"\n",
      "\"VocalsStrong01\"\n",
      "\n",
      "0 29 0.05\n",
      "\"EmotionAngryAgressive01\"\n",
      "\"NOTEmotionPowerfulStrong01\"\n",
      "\n",
      "3 123 0.05\n",
      "\"NOTEmotionArousingAwakening01\"\n",
      "\"UsageGettingreadytogoout01\"\n",
      "\n",
      "6 50 0.05\n",
      "\"EmotionCalmingSoothing01\"\n",
      "\"GenrePunk01\"\n",
      "\n",
      "7 85 0.05\n",
      "\"NOTEmotionCalmingSoothing01\"\n",
      "\"InstrumentStringEnsemble01\"\n",
      "\n",
      "7 128 0.05\n",
      "\"NOTEmotionCalmingSoothing01\"\n",
      "\"UsageRomancing01\"\n",
      "\n",
      "14 153 0.05\n",
      "\"EmotionExcitingThrilling01\"\n",
      "\"GenreBestSoftRock01\"\n",
      "\n",
      "15 122 0.05\n",
      "\"NOTEmotionExcitingThrilling01\"\n",
      "\"UsageExercising01\"\n",
      "\n",
      "20 49 0.05\n",
      "\"EmotionLightPlayful01\"\n",
      "\"GenreMetalHardRock01\"\n",
      "\n",
      "25 53 0.05\n",
      "\"NOTEmotionPleasantComfortable01\"\n",
      "\"GenreSoftRock01\"\n",
      "\n",
      "27 54 0.05\n",
      "\"NOTEmotionPositiveOptimistic01\"\n",
      "\"GenreSoul01\"\n",
      "\n",
      "32 49 0.05\n",
      "\"EmotionTenderSoft01\"\n",
      "\"GenreMetalHardRock01\"\n",
      "\n",
      "34 84 0.05\n",
      "\"EmotionTouchingLoving01\"\n",
      "\"InstrumentSequencer01\"\n",
      "\n",
      "34 157 0.05\n",
      "\"EmotionTouchingLoving01\"\n",
      "\"GenreBestElectronica01\"\n",
      "\n",
      "36 54 0.05\n",
      "\"GenreAlternative01\"\n",
      "\"GenreSoul01\"\n",
      "\n",
      "40 82 0.05\n",
      "\"GenreClassicRock01\"\n",
      "\"InstrumentSamples01\"\n",
      "\n",
      "49 100 0.05\n",
      "\"GenreMetalHardRock01\"\n",
      "\"NOTSongHighEnergy01\"\n",
      "\n",
      "53 118 0.05\n",
      "\"GenreSoftRock01\"\n",
      "\"UsageAtaparty01\"\n",
      "\n",
      "60 86 0.05\n",
      "\"GenreFolk01\"\n",
      "\"InstrumentSynthesizer01\"\n",
      "\n",
      "61 65 0.05\n",
      "\"GenreHipHopRap01\"\n",
      "\"GenreRock01\"\n",
      "\n",
      "65 66 0.05\n",
      "\"GenreRock01\"\n",
      "\"GenreWorld01\"\n",
      "\n",
      "65 89 0.05\n",
      "\"GenreRock01\"\n",
      "\"InstrumentTrumpet01\"\n",
      "\n",
      "66 121 0.05\n",
      "\"GenreWorld01\"\n",
      "\"UsageDriving01\"\n",
      "\n",
      "81 133 0.05\n",
      "\"InstrumentPiano01\"\n",
      "\"VocalsAggressive01\"\n",
      "\n",
      "93 100 0.05\n",
      "\"SongChangingEnergyLevel01\"\n",
      "\"NOTSongHighEnergy01\"\n",
      "\n",
      "96 122 0.05\n",
      "\"NOTSongFastTempo01\"\n",
      "\"UsageExercising01\"\n",
      "\n",
      "100 133 0.05\n",
      "\"NOTSongHighEnergy01\"\n",
      "\"VocalsAggressive01\"\n",
      "\n",
      "100 167 0.05\n",
      "\"NOTSongHighEnergy01\"\n",
      "\"InstrumentElectricGuitar(distorted)Solo01\"\n",
      "\n",
      "108 123 0.05\n",
      "\"NOTSongRecommend01\"\n",
      "\"UsageGettingreadytogoout01\"\n",
      "\n",
      "108 125 0.05\n",
      "\"NOTSongRecommend01\"\n",
      "\"UsageHangingwithfriends01\"\n",
      "\n",
      "147 157 0.05\n",
      "\"VocalsStrong01\"\n",
      "\"GenreBestElectronica01\"\n",
      "\n",
      "0 124 0.04\n",
      "\"EmotionAngryAgressive01\"\n",
      "\"UsageGoingtosleep01\"\n",
      "\n",
      "6 145 0.04\n",
      "\"EmotionCalmingSoothing01\"\n",
      "\"VocalsScreaming01\"\n",
      "\n",
      "7 42 0.04\n",
      "\"NOTEmotionCalmingSoothing01\"\n",
      "\"GenreContemporaryRandB01\"\n",
      "\n",
      "14 85 0.04\n",
      "\"EmotionExcitingThrilling01\"\n",
      "\"InstrumentStringEnsemble01\"\n",
      "\n",
      "18 50 0.04\n",
      "\"EmotionLaidbackMellow01\"\n",
      "\"GenrePunk01\"\n",
      "\n",
      "22 49 0.04\n",
      "\"EmotionLovingRomantic01\"\n",
      "\"GenreMetalHardRock01\"\n",
      "\n",
      "22 133 0.04\n",
      "\"EmotionLovingRomantic01\"\n",
      "\"VocalsAggressive01\"\n",
      "\n",
      "22 163 0.04\n",
      "\"EmotionLovingRomantic01\"\n",
      "\"GenreBestRock01\"\n",
      "\n",
      "25 64 0.04\n",
      "\"NOTEmotionPleasantComfortable01\"\n",
      "\"GenreRandB01\"\n",
      "\n",
      "25 130 0.04\n",
      "\"NOTEmotionPleasantComfortable01\"\n",
      "\"UsageStudying01\"\n",
      "\n",
      "29 125 0.04\n",
      "\"NOTEmotionPowerfulStrong01\"\n",
      "\"UsageHangingwithfriends01\"\n",
      "\n",
      "29 133 0.04\n",
      "\"NOTEmotionPowerfulStrong01\"\n",
      "\"VocalsAggressive01\"\n",
      "\n",
      "30 84 0.04\n",
      "\"EmotionSad01\"\n",
      "\"InstrumentSequencer01\"\n",
      "\n",
      "30 157 0.04\n",
      "\"EmotionSad01\"\n",
      "\"GenreBestElectronica01\"\n",
      "\n",
      "32 50 0.04\n",
      "\"EmotionTenderSoft01\"\n",
      "\"GenrePunk01\"\n",
      "\n",
      "32 122 0.04\n",
      "\"EmotionTenderSoft01\"\n",
      "\"UsageExercising01\"\n",
      "\n",
      "34 49 0.04\n",
      "\"EmotionTouchingLoving01\"\n",
      "\"GenreMetalHardRock01\"\n",
      "\n",
      "34 82 0.04\n",
      "\"EmotionTouchingLoving01\"\n",
      "\"InstrumentSamples01\"\n",
      "\n",
      "34 133 0.04\n",
      "\"EmotionTouchingLoving01\"\n",
      "\"VocalsAggressive01\"\n",
      "\n",
      "34 134 0.04\n",
      "\"EmotionTouchingLoving01\"\n",
      "\"VocalsAlteredwithEffects01\"\n",
      "\n"
     ]
    }
   ],
   "source": [
    "T =bal_ratio\n",
    "\n",
    "for k in range(100):\n",
    "    i,j = np.unravel_index(T.argmax(), T.shape)\n",
    "    print i,j, T[i,j]\n",
    "    print label[i],label[j]\n",
    "    T[i,j]=0\n",
    "    T[j,i]=0;"
   ]
  },
  {
   "cell_type": "code",
   "execution_count": null,
   "metadata": {
    "collapsed": false
   },
   "outputs": [],
   "source": []
  },
  {
   "cell_type": "code",
   "execution_count": 33,
   "metadata": {
    "collapsed": false
   },
   "outputs": [],
   "source": [
    "Genre_index = range(150,165)"
   ]
  },
  {
   "cell_type": "code",
   "execution_count": 34,
   "metadata": {
    "collapsed": false
   },
   "outputs": [
    {
     "data": {
      "text/plain": [
       "<matplotlib.image.AxesImage at 0x11634ddd0>"
      ]
     },
     "execution_count": 34,
     "metadata": {},
     "output_type": "execute_result"
    },
    {
     "data": {
      "image/png": "[encoded data removed]",
      "text/plain": [
       "<matplotlib.figure.Figure at 0x115aa7a10>"
      ]
     },
     "metadata": {},
     "output_type": "display_data"
    }
   ],
   "source": [
    "nbhd = np.zeros(ExclMat.shape)\n",
    "\n",
    "for i in range(ExclMat.shape[0]):\n",
    "    for j in range(ExclMat.shape[1]):\n",
    "        if ExclMat[i,j] != 0:\n",
    "            if i!=j:\n",
    "                nbhd[i,j] = np.dot(ExclMat[:,i],ExclMat[:,j])\n",
    "plt.imshow(nbhd,cmap = 'gray')"
   ]
  },
  {
   "cell_type": "code",
   "execution_count": 35,
   "metadata": {
    "collapsed": false
   },
   "outputs": [
    {
     "name": "stdout",
     "output_type": "stream",
     "text": [
      "[[    0.   367.     0. ...,     0.   305.   641.]\n",
      " [  367.     0.     0. ...,     0.     0.     0.]\n",
      " [    0.     0.     0. ...,     0.     0.     0.]\n",
      " ..., \n",
      " [    0.     0.     0. ...,     0.     0.     0.]\n",
      " [  305.     0.     0. ...,     0.     0.  1711.]\n",
      " [  641.     0.     0. ...,     0.  1711.     0.]]\n"
     ]
    }
   ],
   "source": [
    "acc_2 = np.zeros(ExclMat.shape)\n",
    "\n",
    "for i in range(ExclMat.shape[0]):\n",
    "    for j in range(ExclMat.shape[1]):\n",
    "        if ExclMat[i,j] != 0 and i!=j:\n",
    "            nbhd_ij = np.where(ExclMat[:,i]+ExclMat[:,j]==2)\n",
    "            for k in range(len(nbhd_ij[0])):\n",
    "                acc_2[i,j] += sum(A[:,nbhd_ij[0][k]])\n",
    "print acc_2"
   ]
  },
  {
   "cell_type": "code",
   "execution_count": 36,
   "metadata": {
    "collapsed": false
   },
   "outputs": [
    {
     "data": {
      "text/html": [
       "<div>\n",
       "<table border=\"1\" class=\"dataframe\">\n",
       "  <thead>\n",
       "    <tr style=\"text-align: right;\">\n",
       "      <th></th>\n",
       "      <th>\"GenreBestClassicRock01\"</th>\n",
       "      <th>\"GenreBestMetalHardRock01\"</th>\n",
       "      <th>\"GenreBestPunk01\"</th>\n",
       "      <th>\"GenreBestSoftRock01\"</th>\n",
       "      <th>\"GenreBestSoul01\"</th>\n",
       "      <th>\"GenreBestBlues01\"</th>\n",
       "      <th>\"GenreBestCountry01\"</th>\n",
       "      <th>\"GenreBestElectronica01\"</th>\n",
       "      <th>\"GenreBestFolk01\"</th>\n",
       "      <th>\"GenreBestHipHopRap01\"</th>\n",
       "      <th>\"GenreBestJazz01\"</th>\n",
       "      <th>\"GenreBestPop01\"</th>\n",
       "      <th>\"GenreBestRandB01\"</th>\n",
       "      <th>\"GenreBestRock01\"</th>\n",
       "      <th>\"GenreBestWorld01\"</th>\n",
       "    </tr>\n",
       "  </thead>\n",
       "  <tbody>\n",
       "    <tr>\n",
       "      <th>\"GenreBestClassicRock01\"\\n</th>\n",
       "      <td>0.0</td>\n",
       "      <td>707.0</td>\n",
       "      <td>748.0</td>\n",
       "      <td>0.0</td>\n",
       "      <td>717.0</td>\n",
       "      <td>714.0</td>\n",
       "      <td>0.0</td>\n",
       "      <td>432.0</td>\n",
       "      <td>742.0</td>\n",
       "      <td>492.0</td>\n",
       "      <td>694.0</td>\n",
       "      <td>473.0</td>\n",
       "      <td>0.0</td>\n",
       "      <td>0.0</td>\n",
       "      <td>664.0</td>\n",
       "    </tr>\n",
       "    <tr>\n",
       "      <th>\"GenreBestMetalHardRock01\"\\n</th>\n",
       "      <td>707.0</td>\n",
       "      <td>0.0</td>\n",
       "      <td>3527.0</td>\n",
       "      <td>925.0</td>\n",
       "      <td>1551.0</td>\n",
       "      <td>1462.0</td>\n",
       "      <td>1349.0</td>\n",
       "      <td>1015.0</td>\n",
       "      <td>1814.0</td>\n",
       "      <td>1536.0</td>\n",
       "      <td>1195.0</td>\n",
       "      <td>799.0</td>\n",
       "      <td>911.0</td>\n",
       "      <td>0.0</td>\n",
       "      <td>1402.0</td>\n",
       "    </tr>\n",
       "    <tr>\n",
       "      <th>\"GenreBestPunk01\"\\n</th>\n",
       "      <td>748.0</td>\n",
       "      <td>3527.0</td>\n",
       "      <td>0.0</td>\n",
       "      <td>1090.0</td>\n",
       "      <td>1859.0</td>\n",
       "      <td>1801.0</td>\n",
       "      <td>1413.0</td>\n",
       "      <td>1085.0</td>\n",
       "      <td>1878.0</td>\n",
       "      <td>1792.0</td>\n",
       "      <td>1488.0</td>\n",
       "      <td>841.0</td>\n",
       "      <td>1043.0</td>\n",
       "      <td>1206.0</td>\n",
       "      <td>1483.0</td>\n",
       "    </tr>\n",
       "    <tr>\n",
       "      <th>\"GenreBestSoftRock01\"\\n</th>\n",
       "      <td>0.0</td>\n",
       "      <td>925.0</td>\n",
       "      <td>1090.0</td>\n",
       "      <td>0.0</td>\n",
       "      <td>1210.0</td>\n",
       "      <td>983.0</td>\n",
       "      <td>0.0</td>\n",
       "      <td>645.0</td>\n",
       "      <td>1531.0</td>\n",
       "      <td>812.0</td>\n",
       "      <td>1234.0</td>\n",
       "      <td>710.0</td>\n",
       "      <td>0.0</td>\n",
       "      <td>698.0</td>\n",
       "      <td>927.0</td>\n",
       "    </tr>\n",
       "    <tr>\n",
       "      <th>\"GenreBestSoul01\"\\n</th>\n",
       "      <td>717.0</td>\n",
       "      <td>1551.0</td>\n",
       "      <td>1859.0</td>\n",
       "      <td>1210.0</td>\n",
       "      <td>0.0</td>\n",
       "      <td>2136.0</td>\n",
       "      <td>1545.0</td>\n",
       "      <td>1053.0</td>\n",
       "      <td>1704.0</td>\n",
       "      <td>1789.0</td>\n",
       "      <td>2335.0</td>\n",
       "      <td>975.0</td>\n",
       "      <td>0.0</td>\n",
       "      <td>805.0</td>\n",
       "      <td>1772.0</td>\n",
       "    </tr>\n",
       "    <tr>\n",
       "      <th>\"GenreBestBlues01\"\\n</th>\n",
       "      <td>714.0</td>\n",
       "      <td>1462.0</td>\n",
       "      <td>1801.0</td>\n",
       "      <td>983.0</td>\n",
       "      <td>2136.0</td>\n",
       "      <td>0.0</td>\n",
       "      <td>1671.0</td>\n",
       "      <td>1091.0</td>\n",
       "      <td>1798.0</td>\n",
       "      <td>1756.0</td>\n",
       "      <td>1876.0</td>\n",
       "      <td>879.0</td>\n",
       "      <td>1294.0</td>\n",
       "      <td>884.0</td>\n",
       "      <td>1517.0</td>\n",
       "    </tr>\n",
       "    <tr>\n",
       "      <th>\"GenreBestCountry01\"\\n</th>\n",
       "      <td>0.0</td>\n",
       "      <td>1349.0</td>\n",
       "      <td>1413.0</td>\n",
       "      <td>0.0</td>\n",
       "      <td>1545.0</td>\n",
       "      <td>1671.0</td>\n",
       "      <td>0.0</td>\n",
       "      <td>847.0</td>\n",
       "      <td>2672.0</td>\n",
       "      <td>1067.0</td>\n",
       "      <td>1917.0</td>\n",
       "      <td>711.0</td>\n",
       "      <td>1230.0</td>\n",
       "      <td>767.0</td>\n",
       "      <td>1431.0</td>\n",
       "    </tr>\n",
       "    <tr>\n",
       "      <th>\"GenreBestElectronica01\"\\n</th>\n",
       "      <td>432.0</td>\n",
       "      <td>1015.0</td>\n",
       "      <td>1085.0</td>\n",
       "      <td>645.0</td>\n",
       "      <td>1053.0</td>\n",
       "      <td>1091.0</td>\n",
       "      <td>847.0</td>\n",
       "      <td>0.0</td>\n",
       "      <td>1097.0</td>\n",
       "      <td>1208.0</td>\n",
       "      <td>1276.0</td>\n",
       "      <td>0.0</td>\n",
       "      <td>648.0</td>\n",
       "      <td>638.0</td>\n",
       "      <td>1527.0</td>\n",
       "    </tr>\n",
       "    <tr>\n",
       "      <th>\"GenreBestFolk01\"\\n</th>\n",
       "      <td>742.0</td>\n",
       "      <td>1814.0</td>\n",
       "      <td>1878.0</td>\n",
       "      <td>1531.0</td>\n",
       "      <td>1704.0</td>\n",
       "      <td>1798.0</td>\n",
       "      <td>2672.0</td>\n",
       "      <td>1097.0</td>\n",
       "      <td>0.0</td>\n",
       "      <td>1321.0</td>\n",
       "      <td>2041.0</td>\n",
       "      <td>872.0</td>\n",
       "      <td>1220.0</td>\n",
       "      <td>908.0</td>\n",
       "      <td>1901.0</td>\n",
       "    </tr>\n",
       "    <tr>\n",
       "      <th>\"GenreBestHipHopRap01\"\\n</th>\n",
       "      <td>492.0</td>\n",
       "      <td>1536.0</td>\n",
       "      <td>1792.0</td>\n",
       "      <td>812.0</td>\n",
       "      <td>1789.0</td>\n",
       "      <td>1756.0</td>\n",
       "      <td>1067.0</td>\n",
       "      <td>1208.0</td>\n",
       "      <td>1321.0</td>\n",
       "      <td>0.0</td>\n",
       "      <td>1416.0</td>\n",
       "      <td>937.0</td>\n",
       "      <td>1046.0</td>\n",
       "      <td>854.0</td>\n",
       "      <td>1555.0</td>\n",
       "    </tr>\n",
       "    <tr>\n",
       "      <th>\"GenreBestJazz01\"\\n</th>\n",
       "      <td>694.0</td>\n",
       "      <td>1195.0</td>\n",
       "      <td>1488.0</td>\n",
       "      <td>1234.0</td>\n",
       "      <td>2335.0</td>\n",
       "      <td>1876.0</td>\n",
       "      <td>1917.0</td>\n",
       "      <td>1276.0</td>\n",
       "      <td>2041.0</td>\n",
       "      <td>1416.0</td>\n",
       "      <td>0.0</td>\n",
       "      <td>904.0</td>\n",
       "      <td>1431.0</td>\n",
       "      <td>797.0</td>\n",
       "      <td>1896.0</td>\n",
       "    </tr>\n",
       "    <tr>\n",
       "      <th>\"GenreBestPop01\"\\n</th>\n",
       "      <td>473.0</td>\n",
       "      <td>799.0</td>\n",
       "      <td>841.0</td>\n",
       "      <td>710.0</td>\n",
       "      <td>975.0</td>\n",
       "      <td>879.0</td>\n",
       "      <td>711.0</td>\n",
       "      <td>0.0</td>\n",
       "      <td>872.0</td>\n",
       "      <td>937.0</td>\n",
       "      <td>904.0</td>\n",
       "      <td>0.0</td>\n",
       "      <td>685.0</td>\n",
       "      <td>573.0</td>\n",
       "      <td>1009.0</td>\n",
       "    </tr>\n",
       "    <tr>\n",
       "      <th>\"GenreBestRandB01\"\\n</th>\n",
       "      <td>0.0</td>\n",
       "      <td>911.0</td>\n",
       "      <td>1043.0</td>\n",
       "      <td>0.0</td>\n",
       "      <td>0.0</td>\n",
       "      <td>1294.0</td>\n",
       "      <td>1230.0</td>\n",
       "      <td>648.0</td>\n",
       "      <td>1220.0</td>\n",
       "      <td>1046.0</td>\n",
       "      <td>1431.0</td>\n",
       "      <td>685.0</td>\n",
       "      <td>0.0</td>\n",
       "      <td>638.0</td>\n",
       "      <td>1076.0</td>\n",
       "    </tr>\n",
       "    <tr>\n",
       "      <th>\"GenreBestRock01\"\\n</th>\n",
       "      <td>0.0</td>\n",
       "      <td>0.0</td>\n",
       "      <td>1206.0</td>\n",
       "      <td>698.0</td>\n",
       "      <td>805.0</td>\n",
       "      <td>884.0</td>\n",
       "      <td>767.0</td>\n",
       "      <td>638.0</td>\n",
       "      <td>908.0</td>\n",
       "      <td>854.0</td>\n",
       "      <td>797.0</td>\n",
       "      <td>573.0</td>\n",
       "      <td>638.0</td>\n",
       "      <td>0.0</td>\n",
       "      <td>759.0</td>\n",
       "    </tr>\n",
       "    <tr>\n",
       "      <th>\"GenreBestWorld01\"\\n</th>\n",
       "      <td>664.0</td>\n",
       "      <td>1402.0</td>\n",
       "      <td>1483.0</td>\n",
       "      <td>927.0</td>\n",
       "      <td>1772.0</td>\n",
       "      <td>1517.0</td>\n",
       "      <td>1431.0</td>\n",
       "      <td>1527.0</td>\n",
       "      <td>1901.0</td>\n",
       "      <td>1555.0</td>\n",
       "      <td>1896.0</td>\n",
       "      <td>1009.0</td>\n",
       "      <td>1076.0</td>\n",
       "      <td>759.0</td>\n",
       "      <td>0.0</td>\n",
       "    </tr>\n",
       "  </tbody>\n",
       "</table>\n",
       "</div>"
      ],
      "text/plain": [
       "                              \"GenreBestClassicRock01\"\\n  \\\n",
       "\"GenreBestClassicRock01\"\\n                           0.0   \n",
       "\"GenreBestMetalHardRock01\"\\n                       707.0   \n",
       "\"GenreBestPunk01\"\\n                                748.0   \n",
       "\"GenreBestSoftRock01\"\\n                              0.0   \n",
       "\"GenreBestSoul01\"\\n                                717.0   \n",
       "\"GenreBestBlues01\"\\n                               714.0   \n",
       "\"GenreBestCountry01\"\\n                               0.0   \n",
       "\"GenreBestElectronica01\"\\n                         432.0   \n",
       "\"GenreBestFolk01\"\\n                                742.0   \n",
       "\"GenreBestHipHopRap01\"\\n                           492.0   \n",
       "\"GenreBestJazz01\"\\n                                694.0   \n",
       "\"GenreBestPop01\"\\n                                 473.0   \n",
       "\"GenreBestRandB01\"\\n                                 0.0   \n",
       "\"GenreBestRock01\"\\n                                  0.0   \n",
       "\"GenreBestWorld01\"\\n                               664.0   \n",
       "\n",
       "                              \"GenreBestMetalHardRock01\"\\n  \\\n",
       "\"GenreBestClassicRock01\"\\n                           707.0   \n",
       "\"GenreBestMetalHardRock01\"\\n                           0.0   \n",
       "\"GenreBestPunk01\"\\n                                 3527.0   \n",
       "\"GenreBestSoftRock01\"\\n                              925.0   \n",
       "\"GenreBestSoul01\"\\n                                 1551.0   \n",
       "\"GenreBestBlues01\"\\n                                1462.0   \n",
       "\"GenreBestCountry01\"\\n                              1349.0   \n",
       "\"GenreBestElectronica01\"\\n                          1015.0   \n",
       "\"GenreBestFolk01\"\\n                                 1814.0   \n",
       "\"GenreBestHipHopRap01\"\\n                            1536.0   \n",
       "\"GenreBestJazz01\"\\n                                 1195.0   \n",
       "\"GenreBestPop01\"\\n                                   799.0   \n",
       "\"GenreBestRandB01\"\\n                                 911.0   \n",
       "\"GenreBestRock01\"\\n                                    0.0   \n",
       "\"GenreBestWorld01\"\\n                                1402.0   \n",
       "\n",
       "                              \"GenreBestPunk01\"\\n  \"GenreBestSoftRock01\"\\n  \\\n",
       "\"GenreBestClassicRock01\"\\n                  748.0                      0.0   \n",
       "\"GenreBestMetalHardRock01\"\\n               3527.0                    925.0   \n",
       "\"GenreBestPunk01\"\\n                           0.0                   1090.0   \n",
       "\"GenreBestSoftRock01\"\\n                    1090.0                      0.0   \n",
       "\"GenreBestSoul01\"\\n                        1859.0                   1210.0   \n",
       "\"GenreBestBlues01\"\\n                       1801.0                    983.0   \n",
       "\"GenreBestCountry01\"\\n                     1413.0                      0.0   \n",
       "\"GenreBestElectronica01\"\\n                 1085.0                    645.0   \n",
       "\"GenreBestFolk01\"\\n                        1878.0                   1531.0   \n",
       "\"GenreBestHipHopRap01\"\\n                   1792.0                    812.0   \n",
       "\"GenreBestJazz01\"\\n                        1488.0                   1234.0   \n",
       "\"GenreBestPop01\"\\n                          841.0                    710.0   \n",
       "\"GenreBestRandB01\"\\n                       1043.0                      0.0   \n",
       "\"GenreBestRock01\"\\n                        1206.0                    698.0   \n",
       "\"GenreBestWorld01\"\\n                       1483.0                    927.0   \n",
       "\n",
       "                              \"GenreBestSoul01\"\\n  \"GenreBestBlues01\"\\n  \\\n",
       "\"GenreBestClassicRock01\"\\n                  717.0                 714.0   \n",
       "\"GenreBestMetalHardRock01\"\\n               1551.0                1462.0   \n",
       "\"GenreBestPunk01\"\\n                        1859.0                1801.0   \n",
       "\"GenreBestSoftRock01\"\\n                    1210.0                 983.0   \n",
       "\"GenreBestSoul01\"\\n                           0.0                2136.0   \n",
       "\"GenreBestBlues01\"\\n                       2136.0                   0.0   \n",
       "\"GenreBestCountry01\"\\n                     1545.0                1671.0   \n",
       "\"GenreBestElectronica01\"\\n                 1053.0                1091.0   \n",
       "\"GenreBestFolk01\"\\n                        1704.0                1798.0   \n",
       "\"GenreBestHipHopRap01\"\\n                   1789.0                1756.0   \n",
       "\"GenreBestJazz01\"\\n                        2335.0                1876.0   \n",
       "\"GenreBestPop01\"\\n                          975.0                 879.0   \n",
       "\"GenreBestRandB01\"\\n                          0.0                1294.0   \n",
       "\"GenreBestRock01\"\\n                         805.0                 884.0   \n",
       "\"GenreBestWorld01\"\\n                       1772.0                1517.0   \n",
       "\n",
       "                              \"GenreBestCountry01\"\\n  \\\n",
       "\"GenreBestClassicRock01\"\\n                       0.0   \n",
       "\"GenreBestMetalHardRock01\"\\n                  1349.0   \n",
       "\"GenreBestPunk01\"\\n                           1413.0   \n",
       "\"GenreBestSoftRock01\"\\n                          0.0   \n",
       "\"GenreBestSoul01\"\\n                           1545.0   \n",
       "\"GenreBestBlues01\"\\n                          1671.0   \n",
       "\"GenreBestCountry01\"\\n                           0.0   \n",
       "\"GenreBestElectronica01\"\\n                     847.0   \n",
       "\"GenreBestFolk01\"\\n                           2672.0   \n",
       "\"GenreBestHipHopRap01\"\\n                      1067.0   \n",
       "\"GenreBestJazz01\"\\n                           1917.0   \n",
       "\"GenreBestPop01\"\\n                             711.0   \n",
       "\"GenreBestRandB01\"\\n                          1230.0   \n",
       "\"GenreBestRock01\"\\n                            767.0   \n",
       "\"GenreBestWorld01\"\\n                          1431.0   \n",
       "\n",
       "                              \"GenreBestElectronica01\"\\n  \"GenreBestFolk01\"\\n  \\\n",
       "\"GenreBestClassicRock01\"\\n                         432.0                742.0   \n",
       "\"GenreBestMetalHardRock01\"\\n                      1015.0               1814.0   \n",
       "\"GenreBestPunk01\"\\n                               1085.0               1878.0   \n",
       "\"GenreBestSoftRock01\"\\n                            645.0               1531.0   \n",
       "\"GenreBestSoul01\"\\n                               1053.0               1704.0   \n",
       "\"GenreBestBlues01\"\\n                              1091.0               1798.0   \n",
       "\"GenreBestCountry01\"\\n                             847.0               2672.0   \n",
       "\"GenreBestElectronica01\"\\n                           0.0               1097.0   \n",
       "\"GenreBestFolk01\"\\n                               1097.0                  0.0   \n",
       "\"GenreBestHipHopRap01\"\\n                          1208.0               1321.0   \n",
       "\"GenreBestJazz01\"\\n                               1276.0               2041.0   \n",
       "\"GenreBestPop01\"\\n                                   0.0                872.0   \n",
       "\"GenreBestRandB01\"\\n                               648.0               1220.0   \n",
       "\"GenreBestRock01\"\\n                                638.0                908.0   \n",
       "\"GenreBestWorld01\"\\n                              1527.0               1901.0   \n",
       "\n",
       "                              \"GenreBestHipHopRap01\"\\n  \"GenreBestJazz01\"\\n  \\\n",
       "\"GenreBestClassicRock01\"\\n                       492.0                694.0   \n",
       "\"GenreBestMetalHardRock01\"\\n                    1536.0               1195.0   \n",
       "\"GenreBestPunk01\"\\n                             1792.0               1488.0   \n",
       "\"GenreBestSoftRock01\"\\n                          812.0               1234.0   \n",
       "\"GenreBestSoul01\"\\n                             1789.0               2335.0   \n",
       "\"GenreBestBlues01\"\\n                            1756.0               1876.0   \n",
       "\"GenreBestCountry01\"\\n                          1067.0               1917.0   \n",
       "\"GenreBestElectronica01\"\\n                      1208.0               1276.0   \n",
       "\"GenreBestFolk01\"\\n                             1321.0               2041.0   \n",
       "\"GenreBestHipHopRap01\"\\n                           0.0               1416.0   \n",
       "\"GenreBestJazz01\"\\n                             1416.0                  0.0   \n",
       "\"GenreBestPop01\"\\n                               937.0                904.0   \n",
       "\"GenreBestRandB01\"\\n                            1046.0               1431.0   \n",
       "\"GenreBestRock01\"\\n                              854.0                797.0   \n",
       "\"GenreBestWorld01\"\\n                            1555.0               1896.0   \n",
       "\n",
       "                              \"GenreBestPop01\"\\n  \"GenreBestRandB01\"\\n  \\\n",
       "\"GenreBestClassicRock01\"\\n                 473.0                   0.0   \n",
       "\"GenreBestMetalHardRock01\"\\n               799.0                 911.0   \n",
       "\"GenreBestPunk01\"\\n                        841.0                1043.0   \n",
       "\"GenreBestSoftRock01\"\\n                    710.0                   0.0   \n",
       "\"GenreBestSoul01\"\\n                        975.0                   0.0   \n",
       "\"GenreBestBlues01\"\\n                       879.0                1294.0   \n",
       "\"GenreBestCountry01\"\\n                     711.0                1230.0   \n",
       "\"GenreBestElectronica01\"\\n                   0.0                 648.0   \n",
       "\"GenreBestFolk01\"\\n                        872.0                1220.0   \n",
       "\"GenreBestHipHopRap01\"\\n                   937.0                1046.0   \n",
       "\"GenreBestJazz01\"\\n                        904.0                1431.0   \n",
       "\"GenreBestPop01\"\\n                           0.0                 685.0   \n",
       "\"GenreBestRandB01\"\\n                       685.0                   0.0   \n",
       "\"GenreBestRock01\"\\n                        573.0                 638.0   \n",
       "\"GenreBestWorld01\"\\n                      1009.0                1076.0   \n",
       "\n",
       "                              \"GenreBestRock01\"\\n  \"GenreBestWorld01\"\\n  \n",
       "\"GenreBestClassicRock01\"\\n                    0.0                 664.0  \n",
       "\"GenreBestMetalHardRock01\"\\n                  0.0                1402.0  \n",
       "\"GenreBestPunk01\"\\n                        1206.0                1483.0  \n",
       "\"GenreBestSoftRock01\"\\n                     698.0                 927.0  \n",
       "\"GenreBestSoul01\"\\n                         805.0                1772.0  \n",
       "\"GenreBestBlues01\"\\n                        884.0                1517.0  \n",
       "\"GenreBestCountry01\"\\n                      767.0                1431.0  \n",
       "\"GenreBestElectronica01\"\\n                  638.0                1527.0  \n",
       "\"GenreBestFolk01\"\\n                         908.0                1901.0  \n",
       "\"GenreBestHipHopRap01\"\\n                    854.0                1555.0  \n",
       "\"GenreBestJazz01\"\\n                         797.0                1896.0  \n",
       "\"GenreBestPop01\"\\n                          573.0                1009.0  \n",
       "\"GenreBestRandB01\"\\n                        638.0                1076.0  \n",
       "\"GenreBestRock01\"\\n                           0.0                 759.0  \n",
       "\"GenreBestWorld01\"\\n                        759.0                   0.0  "
      ]
     },
     "execution_count": 36,
     "metadata": {},
     "output_type": "execute_result"
    }
   ],
   "source": [
    "import pandas as pd\n",
    "\n",
    "temp1 = acc_2[Genre_index,:]\n",
    "temp2 = temp1[:,Genre_index]\n",
    "df = pd.DataFrame(temp2, columns = label[150:165],index = label[150:165])\n",
    "df"
   ]
  },
  {
   "cell_type": "code",
   "execution_count": 40,
   "metadata": {
    "collapsed": false
   },
   "outputs": [
    {
     "name": "stdout",
     "output_type": "stream",
     "text": [
      "[[ 1.         -0.0824982   0.         ...,  0.         -0.00855766\n",
      "  -0.01457485]\n",
      " [-0.0824982   1.          0.         ...,  0.          0.          0.        ]\n",
      " [ 0.          0.          1.         ...,  0.          0.          0.        ]\n",
      " ..., \n",
      " [ 0.          0.          0.         ...,  1.          0.          0.        ]\n",
      " [-0.00855766  0.          0.         ...,  0.          1.         -0.02071143]\n",
      " [-0.01457485  0.          0.         ...,  0.         -0.02071143  1.        ]]\n"
     ]
    }
   ],
   "source": [
    "X = acc_2 \n",
    "\n",
    "norm = np.sum(X,axis = 0)\n",
    "a =  np.divide(np.ones(len(X)), norm)\n",
    "b = np.sqrt(a)\n",
    "D_inv = np.diag(b)\n",
    "Lap = np.eye(len(X)) - np.dot(np.dot(D_inv,X),D_inv)\n",
    "print Lap\n"
   ]
  },
  {
   "cell_type": "code",
   "execution_count": 48,
   "metadata": {
    "collapsed": false
   },
   "outputs": [
    {
     "name": "stdout",
     "output_type": "stream",
     "text": [
      "[[ 1.         -0.0824982   0.         ...,  0.         -0.00855766\n",
      "  -0.01457485]\n",
      " [-0.0824982   1.          0.         ...,  0.          0.          0.        ]\n",
      " [ 0.          0.          1.         ...,  0.          0.          0.        ]\n",
      " ..., \n",
      " [ 0.          0.          0.         ...,  1.          0.          0.        ]\n",
      " [-0.00855766  0.          0.         ...,  0.          1.         -0.02071143]\n",
      " [-0.01457485  0.          0.         ...,  0.         -0.02071143  1.        ]]\n",
      "1.0\n",
      "[ 1.  0.  0.  0.  0.  0.  0.  0.  0.  0.  0.  0.  0.  0.  0.  0.  0.  0.\n",
      "  0.  0.  0.  0.  0.  0.  0.  0.  0.  0.  0.  0.  0.  0.  0.  0.  0.  0.\n",
      "  0.  0.  0.  0.  0.  0.  0.  0.  0.  0.  0.  0.  0.  0.  0.  0.  0.  0.\n",
      "  0.  0.  0.  0.  0.  0.  0.  0.  0.  0.  0.  0.  0.  0.  0.  0.  0.  0.\n",
      "  0.  0.  0.  0.  0.  0.  0.  0.  0.  0.  0.  0.  0.  0.  0.  0.  0.  0.\n",
      "  0.  0.  0.  0.  0.  0.  0.  0.  0.  0.  0.  0.  0.  0.  0.  0.  0.  0.\n",
      "  0.  0.  0.  0.  0.  0.  0.  0.  0.  0.  0.  0.  0.  0.  0.  0.  0.  0.\n",
      "  0.  0.  0.  0.  0.  0.  0.  0.  0.  0.  0.  0.  0.  0.  0.  0.  0.  0.\n",
      "  0.  0.  0.  0.  0.  0.  0.  0.  0.  0.  0.  0.  0.  0.  0.  0.  0.  0.\n",
      "  0.  0.  0.  0.  0.  0.  0.  0.  0.  0.  0.  0.]\n"
     ]
    }
   ],
   "source": [
    "w,v = LA.eigh(Lap)\n",
    "print Lap\n",
    "x = v[0:2]\n",
    "print w[0]\n",
    "print v[0]\n"
   ]
  },
  {
   "cell_type": "code",
   "execution_count": null,
   "metadata": {
    "collapsed": true
   },
   "outputs": [],
   "source": []
  }
 ],
 "metadata": {
  "anaconda-cloud": {},
  "kernelspec": {
   "display_name": "Python [conda root]",
   "language": "python",
   "name": "conda-root-py"
  },
  "language_info": {
   "codemirror_mode": {
    "name": "ipython",
    "version": 2
   },
   "file_extension": ".py",
   "mimetype": "text/x-python",
   "name": "python",
   "nbconvert_exporter": "python",
   "pygments_lexer": "ipython2",
   "version": "2.7.12"
  }
 },
 "nbformat": 4,
 "nbformat_minor": 1
}
