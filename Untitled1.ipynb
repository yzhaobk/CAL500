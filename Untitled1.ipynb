{
 "cells": [
  {
   "cell_type": "code",
   "execution_count": 164,
   "metadata": {
    "collapsed": false
   },
   "outputs": [
    {
     "data": {
      "text/plain": [
       "(502, 242)"
      ]
     },
     "execution_count": 164,
     "metadata": {},
     "output_type": "execute_result"
    }
   ],
   "source": [
    "import numpy as np\n",
    "from numpy import linalg as LA\n",
    "import math\n",
    "from numpy import dot as dot\n",
    "import networkx as nx\n",
    "import matplotlib.pylab as plt\n",
    "import scipy.sparse as sps\n",
    "data = np.loadtxt('cal500',delimiter = ',')\n",
    "data.shape"
   ]
  },
  {
   "cell_type": "code",
   "execution_count": 165,
   "metadata": {
    "collapsed": false
   },
   "outputs": [],
   "source": [
    "with open('label2.txt') as f:\n",
    "    label = f.readlines()"
   ]
  },
  {
   "cell_type": "code",
   "execution_count": 166,
   "metadata": {
    "collapsed": false
   },
   "outputs": [
    {
     "data": {
      "text/plain": [
       "array([[ 0.,  1.,  0., ...,  0.,  0.,  0.],\n",
       "       [ 0.,  1.,  0., ...,  0.,  0.,  0.],\n",
       "       [ 0.,  1.,  1., ...,  0.,  0.,  0.],\n",
       "       ..., \n",
       "       [ 0.,  1.,  0., ...,  0.,  0.,  0.],\n",
       "       [ 0.,  1.,  0., ...,  0.,  0.,  0.],\n",
       "       [ 0.,  1.,  0., ...,  0.,  0.,  0.]])"
      ]
     },
     "execution_count": 166,
     "metadata": {},
     "output_type": "execute_result"
    }
   ],
   "source": [
    "A = data[:,-len(label):]\n",
    "A.shape\n",
    "np.rint(A)"
   ]
  },
  {
   "cell_type": "code",
   "execution_count": 167,
   "metadata": {
    "collapsed": false
   },
   "outputs": [
    {
     "data": {
      "text/plain": [
       "(174, 174)"
      ]
     },
     "execution_count": 167,
     "metadata": {},
     "output_type": "execute_result"
    }
   ],
   "source": [
    "B = np.dot(A.transpose(),A)\n",
    "B.shape"
   ]
  },
  {
   "cell_type": "code",
   "execution_count": 88,
   "metadata": {
    "collapsed": false
   },
   "outputs": [
    {
     "data": {
      "image/png": "[encoded data removed]",
      "text/plain": [
       "<matplotlib.figure.Figure at 0x110252f10>"
      ]
     },
     "metadata": {},
     "output_type": "display_data"
    }
   ],
   "source": [
    "C = (B==0)\n",
    "ExclMat = C.astype(int) \n",
    "for i in range(0,174): \n",
    "    for j in range(0,174):\n",
    "        if i==j:\n",
    "            ExclMat[i,j]=1\n",
    "            \n",
    "plt.spy(ExclMat) \n",
    "plt.show()\n"
   ]
  },
  {
   "cell_type": "code",
   "execution_count": 89,
   "metadata": {
    "collapsed": false
   },
   "outputs": [
    {
     "data": {
      "image/png": "[encoded data removed]",
      "text/plain": [
       "<matplotlib.figure.Figure at 0x11024de10>"
      ]
     },
     "metadata": {},
     "output_type": "display_data"
    },
    {
     "data": {
      "text/plain": [
       "(36, 36)"
      ]
     },
     "execution_count": 89,
     "metadata": {},
     "output_type": "execute_result"
    }
   ],
   "source": [
    "Emotion = ExclMat[0:36,0:36] #emotion variable \n",
    "plt.spy(Emotion)\n",
    "plt.show()\n",
    "Emotion.shape"
   ]
  },
  {
   "cell_type": "code",
   "execution_count": 90,
   "metadata": {
    "collapsed": false
   },
   "outputs": [
    {
     "name": "stdout",
     "output_type": "stream",
     "text": [
      "(502, 18)\n"
     ]
    },
    {
     "data": {
      "text/plain": [
       "array([ 367.,  253.,  318.,  302.,  261.,  287.,  233.,  264.,  270.,\n",
       "        270.,  279.,  306.,  251.,  238.,  225.,  279.,  310.,  294.])"
      ]
     },
     "execution_count": 90,
     "metadata": {},
     "output_type": "execute_result"
    }
   ],
   "source": [
    "Emotion_data = A[:,0:36]\n",
    "T =np.zeros((Emotion_data.shape[0],1),dtype=np.int);\n",
    "for i in range(0,Emotion_data.shape[1]):\n",
    "    if i%2==1: \n",
    "        temp = A[:,i]+A[:,i-1]\n",
    "        T = np.c_[T,temp]\n",
    "T=np.delete(T,0,1)\n",
    "print T.shape\n",
    "T\n",
    "X = np.sum(T,0)\n",
    "X"
   ]
  },
  {
   "cell_type": "code",
   "execution_count": 91,
   "metadata": {
    "collapsed": false
   },
   "outputs": [
    {
     "data": {
      "image/png": "[encoded data removed]",
      "text/plain": [
       "<matplotlib.figure.Figure at 0x11060fbd0>"
      ]
     },
     "metadata": {},
     "output_type": "display_data"
    }
   ],
   "source": [
    "Genre = ExclMat[151:165,151:165] # genre variable \n",
    "plt.spy(Genre)\n",
    "plt.show()"
   ]
  },
  {
   "cell_type": "code",
   "execution_count": 92,
   "metadata": {
    "collapsed": false
   },
   "outputs": [
    {
     "name": "stdout",
     "output_type": "stream",
     "text": [
      "[ 0.  0.  1.  0.  0.  0.  0.  1.  0.  0.  0.  0.  0.  0.  1.  1.  1.  0.\n",
      "  1.  1.  1.  0.  1.  0.  0.  0.  0.  1.  0.  0.  0.  1.  0.  1.  1.  0.\n",
      "  1.  0.  0.  1.  0.  1.  0.  0.  0.  0.  0.  0.  0.  0.  1.  1.  1.  0.\n",
      "  0.  0.  1.  0.  0.  0.  1.  1.  0.  0.  0.  1.  0.  1.  0.  1.  0.  0.\n",
      "  1.  0.  0.  0.  1.  0.  0.  1.  0.  0.  1.  1.  1.  0.  1.  0.  0.  0.\n",
      "  1.  1.  0.  1.  1.  0.  1.  0.  0.  1.  1.  0.  0.  1.  1.  1.  1.  1.\n",
      "  0.  0.  0.  0.  1.  1.  1.  1.  0.  0.  0.  0.  1.  0.  1.  1.  0.  1.\n",
      "  0.  0.  0.  0.  1.  1.  1.  1.  0.  0.  1.  1.  1.  0.  0.  0.  0.  1.\n",
      "  0.  0.  2.  1.  0.  1.  0.  1.  0.  1.  0.  0.  1.  1.  1.  1.  1.  1.\n",
      "  0.  0.  0.  0.  1.  1.  1.  1.  1.  1.  1.  1.  0.  0.  0.  1.  0.  1.\n",
      "  0.  0.  0.  1.  0.  1.  1.  0.  2.  1.  1.  0.  0.  0.  0.  1.  1.  0.\n",
      "  0.  0.  0.  1.  0.  0.  0.  1.  0.  1.  0.  1.  0.  0.  1.  1.  0.  0.\n",
      "  1.  0.  0.  0.  0.  0.  0.  1.  0.  1.  0.  1.  0.  1.  1.  0.  1.  0.\n",
      "  0.  0.  1.  0.  0.  1.  0.  1.  1.  0.  0.  0.  0.  0.  0.  1.  1.  0.\n",
      "  2.  0.  1.  0.  1.  0.  1.  0.  0.  1.  0.  0.  0.  1.  1.  0.  1.  0.\n",
      "  0.  0.  1.  0.  0.  1.  0.  1.  0.  0.  0.  0.  0.  1.  1.  1.  1.  0.\n",
      "  1.  1.  0.  1.  0.  1.  1.  0.  0.  1.  1.  0.  0.  1.  0.  0.  0.  1.\n",
      "  1.  0.  0.  0.  1.  0.  0.  0.  0.  1.  0.  1.  1.  0.  0.  1.  0.  0.\n",
      "  1.  0.  0.  1.  0.  1.  1.  1.  0.  1.  0.  1.  1.  1.  0.  0.  0.  0.\n",
      "  0.  0.  0.  1.  1.  1.  0.  1.  1.  0.  0.  0.  0.  0.  0.  0.  1.  1.\n",
      "  0.  0.  1.  0.  0.  0.  1.  1.  0.  0.  1.  0.  1.  0.  0.  0.  1.  1.\n",
      "  0.  0.  1.  1.  1.  1.  0.  1.  1.  1.  0.  1.  1.  1.  1.  0.  1.  0.\n",
      "  1.  0.  1.  0.  1.  1.  1.  1.  1.  1.  0.  0.  1.  1.  1.  0.  1.  1.\n",
      "  1.  1.  0.  0.  1.  0.  0.  0.  1.  0.  0.  0.  1.  0.  1.  0.  0.  1.\n",
      "  0.  1.  0.  1.  1.  1.  1.  0.  2.  1.  0.  1.  1.  0.  0.  1.  1.  1.\n",
      "  0.  1.  0.  0.  0.  0.  0.  0.  1.  0.  1.  0.  0.  0.  1.  0.  0.  1.\n",
      "  0.  0.  1.  0.  0.  1.  0.  0.  1.  1.  1.  0.  1.  0.  1.  1.  1.  1.\n",
      "  0.  1.  1.  1.  0.  1.  0.  0.  1.  2.  1.  0.  0.  0.  0.  0.]\n"
     ]
    }
   ],
   "source": [
    "Genre_data =A[:,151:165]\n",
    "Y = np.sum(Genre_data, axis=1)\n",
    "print Y #test if those variable follow multinomial distribution "
   ]
  },
  {
   "cell_type": "code",
   "execution_count": 93,
   "metadata": {
    "collapsed": false
   },
   "outputs": [
    {
     "data": {
      "image/png": "[encoded data removed]",
      "text/plain": [
       "<matplotlib.figure.Figure at 0x110104ad0>"
      ]
     },
     "metadata": {},
     "output_type": "display_data"
    }
   ],
   "source": [
    "Genre1 = ExclMat[37:67,37:67]\n",
    "plt.spy(Genre1)\n",
    "plt.show()"
   ]
  },
  {
   "cell_type": "code",
   "execution_count": 102,
   "metadata": {
    "collapsed": false
   },
   "outputs": [],
   "source": [
    "norm = np.sum(ExclMat,axis = 0)\n",
    "a =  np.divide(np.ones(len(ExclMat)), norm)\n",
    "D_inv = np.diag(a)\n",
    "Lap = np.eye(len(ExclMat)) - np.dot(np.dot(D_inv,ExclMat),D_inv)"
   ]
  },
  {
   "cell_type": "code",
   "execution_count": 116,
   "metadata": {
    "collapsed": false
   },
   "outputs": [],
   "source": [
    "w,v = LA.eigh(Lap)"
   ]
  },
  {
   "cell_type": "code",
   "execution_count": 117,
   "metadata": {
    "collapsed": false
   },
   "outputs": [
    {
     "data": {
      "image/png": "[encoded data removed]",
      "text/plain": [
       "<matplotlib.figure.Figure at 0x113041110>"
      ]
     },
     "metadata": {},
     "output_type": "display_data"
    }
   ],
   "source": [
    "x = v[0:2]\n",
    "\n",
    "plt.plot(v[1],v[2],'ro')\n",
    "plt.show()"
   ]
  },
  {
   "cell_type": "code",
   "execution_count": 125,
   "metadata": {
    "collapsed": false
   },
   "outputs": [
    {
     "name": "stdout",
     "output_type": "stream",
     "text": [
      "[1 1 1 1 1 1 1 1 1 1 2 1 1 1 1 1 1 1 1 1 1 1 1 1 1 1 1 0 0 0 0 1 1 1 1 0 1\n",
      " 1 1 1 1 1 1 1 1 1 1 1 1 1 1 1 1 1 1 1 1 1 1 1 1 1 1 1 1 1 1 1 1 1 1 1 1 1\n",
      " 1 1 1 1 1 1 1 1 1 1 1 1 1 1 1 1 1 1 1 1 1 1 1 1 1 1 1 1 1 1 1 1 1 1 1 1 1\n",
      " 1 1 1 1 1 1 1 1 1 1 1 1 1 1 1 1 1 1 1 1 1 1 1 1 1 1 1 1 1 1 1 1 1 1 1 1 1\n",
      " 1 1 1 1 1 1 1 1 1 1 1 1 1 1 1 1 1 1 1 1 1 1 1 1 1 1]\n"
     ]
    }
   ],
   "source": [
    "X = np.transpose([v[1],v[2]])\n",
    "kmeans = KMeans(n_clusters=3, random_state=0).fit(X)\n",
    "classes = kmeans.labels_\n",
    "print classes"
   ]
  },
  {
   "cell_type": "code",
   "execution_count": 144,
   "metadata": {
    "collapsed": false
   },
   "outputs": [
    {
     "data": {
      "text/plain": [
       "array([[1, 0, 0, 0, 0],\n",
       "       [0, 1, 1, 0, 0],\n",
       "       [0, 1, 1, 0, 0],\n",
       "       [0, 0, 0, 1, 0],\n",
       "       [0, 0, 0, 0, 1]])"
      ]
     },
     "execution_count": 144,
     "metadata": {},
     "output_type": "execute_result"
    }
   ],
   "source": [
    "ind1 = np.where(classes == 0)[0]\n",
    "y = ExclMat[ind1,:]\n",
    "z = y[:,ind1]\n",
    "z"
   ]
  },
  {
   "cell_type": "code",
   "execution_count": 94,
   "metadata": {
    "collapsed": false
   },
   "outputs": [
    {
     "ename": "NameError",
     "evalue": "name 'z' is not defined",
     "output_type": "error",
     "traceback": [
      "\u001b[0;31m---------------------------------------------------------------------------\u001b[0m",
      "\u001b[0;31mNameError\u001b[0m                                 Traceback (most recent call last)",
      "\u001b[0;32m<ipython-input-94-70633867aba4>\u001b[0m in \u001b[0;36m<module>\u001b[0;34m()\u001b[0m\n\u001b[0;32m----> 1\u001b[0;31m \u001b[0mplt\u001b[0m\u001b[0;34m.\u001b[0m\u001b[0mspy\u001b[0m\u001b[0;34m(\u001b[0m\u001b[0mz\u001b[0m\u001b[0;34m)\u001b[0m\u001b[0;34m\u001b[0m\u001b[0m\n\u001b[0m\u001b[1;32m      2\u001b[0m \u001b[0mplt\u001b[0m\u001b[0;34m.\u001b[0m\u001b[0mshow\u001b[0m\u001b[0;34m(\u001b[0m\u001b[0;34m)\u001b[0m\u001b[0;34m\u001b[0m\u001b[0m\n",
      "\u001b[0;31mNameError\u001b[0m: name 'z' is not defined"
     ]
    }
   ],
   "source": [
    "plt.spy(z)\n",
    "plt.show()"
   ]
  },
  {
   "cell_type": "code",
   "execution_count": 112,
   "metadata": {
    "collapsed": false
   },
   "outputs": [],
   "source": [
    "G = nx.from_numpy_matrix(ExclMat)\n",
    "X = nx.find_cliques(G)\n",
    "Y = list(X) \n"
   ]
  },
  {
   "cell_type": "code",
   "execution_count": 117,
   "metadata": {
    "collapsed": false
   },
   "outputs": [
    {
     "name": "stdout",
     "output_type": "stream",
     "text": [
      "[173, 166, 39, 151, 172, 155, 146, 137, 162, 164, 165, 47]\n"
     ]
    }
   ],
   "source": [
    "max_clique = 0 \n",
    "max_index =0\n",
    "for y in Y: \n",
    "    if y > max_clique:\n",
    "        max_clique = y \n",
    "        max_index =y.index\n",
    "print max_clique; \n"
   ]
  },
  {
   "cell_type": "code",
   "execution_count": 126,
   "metadata": {
    "collapsed": false
   },
   "outputs": [
    {
     "name": "stdout",
     "output_type": "stream",
     "text": [
      "[]\n"
     ]
    },
    {
     "data": {
      "text/plain": [
       "174"
      ]
     },
     "execution_count": 126,
     "metadata": {},
     "output_type": "execute_result"
    }
   ],
   "source": [
    "Z = Y[1]\n",
    "type(Z)\n",
    "acc = []\n",
    "print acc\n",
    "ExclMat.shape[1]"
   ]
  },
  {
   "cell_type": "code",
   "execution_count": 159,
   "metadata": {
    "collapsed": false
   },
   "outputs": [
    {
     "name": "stdout",
     "output_type": "stream",
     "text": [
      "[[   0.  367.    0. ...,    0.   58.   54.]\n",
      " [ 367.    0.    0. ...,    0.    0.    0.]\n",
      " [   0.    0.    0. ...,    0.    0.    0.]\n",
      " ..., \n",
      " [   0.    0.    0. ...,    0.    0.    0.]\n",
      " [  58.    0.    0. ...,    0.    0.   16.]\n",
      " [  54.    0.    0. ...,    0.   16.    0.]]\n"
     ]
    },
    {
     "data": {
      "image/png": "[encoded data removed]",
      "text/plain": [
       "<matplotlib.figure.Figure at 0x10fe4f710>"
      ]
     },
     "metadata": {},
     "output_type": "display_data"
    },
    {
     "name": "stdout",
     "output_type": "stream",
     "text": [
      "109 110 453.0\n",
      "\"SongRecorded01\"\n",
      "\"NOTSongRecorded01\"\n",
      "\n"
     ]
    }
   ],
   "source": [
    "acc = np.zeros(ExclMat.shape); \n",
    "for i in range(0,ExclMat.shape[0]):\n",
    "    for j in range(0,ExclMat.shape[1]):\n",
    "        if ExclMat[i,j] ==1 and i!=j:\n",
    "            temp = A[:,i] + A[:,j]\n",
    "            acc[i,j] = sum(temp) \n",
    "print acc\n",
    "plt.spy(acc)\n",
    "plt.show()\n",
    "i,j = np.unravel_index(acc.argmax(), acc.shape)\n",
    "acc[i,j]\n",
    "print i,j, acc[i,j]\n",
    "print label[i],label[j]"
   ]
  },
  {
   "cell_type": "code",
   "execution_count": 152,
   "metadata": {
    "collapsed": false
   },
   "outputs": [
    {
     "data": {
      "text/plain": [
       "array([[   0.,    0.,    0., ...,  196.,  232.,  367.],\n",
       "       [   0.,    0.,    0., ...,  328.,  329.,  367.],\n",
       "       [   0.,    0.,    0., ...,  164.,  181.,  253.],\n",
       "       ..., \n",
       "       [   0.,    0.,    0., ...,   72.,   95.,  166.],\n",
       "       [   0.,    0.,    0., ...,  110.,  146.,  170.],\n",
       "       [   0.,    0.,    0., ...,  147.,  166.,  225.]])"
      ]
     },
     "execution_count": 152,
     "metadata": {},
     "output_type": "execute_result"
    }
   ],
   "source": [
    "np.sort(acc)"
   ]
  },
  {
   "cell_type": "code",
   "execution_count": 160,
   "metadata": {
    "collapsed": false
   },
   "outputs": [
    {
     "name": "stdout",
     "output_type": "stream",
     "text": [
      "109 110 453.0\n",
      "\"SongRecorded01\"\n",
      "\"NOTSongRecorded01\"\n",
      "\n",
      "0 1 367.0\n",
      "\"AngryAgressive01\"\n",
      "\"NOTEmotionAngryAgressive01\"\n",
      "\n",
      "48 112 333.0\n",
      "\"GenreGospel01\"\n",
      "\"SongTextureElectric01\"\n",
      "\n",
      "1 151 329.0\n",
      "\"NOTEmotionAngryAgressive01\"\n",
      "\"GenreBestMetalHardRock01\"\n",
      "\n",
      "1 152 328.0\n",
      "\"NOTEmotionAngryAgressive01\"\n",
      "\"GenreBestPunk01\"\n",
      "\n",
      "99 100 324.0\n",
      "\"SongHighEnergy01\"\n",
      "\"NOTSongHighEnergy01\"\n",
      "\n",
      "4 5 318.0\n",
      "\"EmotionBizarreWeird01\"\n",
      "\"NOTEmotionBizarreWeird01\"\n",
      "\n",
      "72 157 315.0\n",
      "\"InstrumentDrumSet01\"\n",
      "\"GenreBestElectronica01\"\n",
      "\n",
      "116 117 314.0\n",
      "\"SongVeryDanceable01\"\n",
      "\"NOTSongVeryDanceable01\"\n",
      "\n",
      "32 33 310.0\n",
      "\"EmotionTenderSoft01\"\n",
      "\"NOTEmotionTenderSoft01\"\n",
      "\n",
      "5 146 306.0\n",
      "\"NOTEmotionBizarreWeird01\"\n",
      "\"VocalsSpoken01\"\n",
      "\n",
      "22 23 306.0\n",
      "\"EmotionLovingRomantic01\"\n",
      "\"NOTEmotionLovingRomantic01\"\n",
      "\n",
      "6 7 302.0\n",
      "\"EmotionCalmingSoothing01\"\n",
      "\"NOTEmotionCalmingSoothing01\"\n",
      "\n",
      "105 106 300.0\n",
      "\"SongQuality01\"\n",
      "\"NOTSongQuality01\"\n",
      "\n",
      "8 21 296.0\n",
      "\"EmotionCarefreeLighthearted01\"\n",
      "\"NOTEmotionLightPlayful01\"\n",
      "\n",
      "22 35 295.0\n",
      "\"EmotionLovingRomantic01\"\n",
      "\"NOTEmotionTouchingLoving01\"\n",
      "\n",
      "34 35 294.0\n",
      "\"EmotionTouchingLoving01\"\n",
      "\"NOTEmotionTouchingLoving01\"\n",
      "\n",
      "72 164 291.0\n",
      "\"InstrumentDrumSet01\"\n",
      "\"GenreBestWorld01\"\n",
      "\n",
      "10 11 287.0\n",
      "\"EmotionCheerfulFestive01\"\n",
      "\"NOTEmotionCheerfulFestive01\"\n",
      "\n",
      "111 152 287.0\n",
      "\"SongTextureAcoustic01\"\n",
      "\"GenreBestPunk01\"\n",
      "\n",
      "20 21 279.0\n",
      "\"EmotionLightPlayful01\"\n",
      "\"NOTEmotionLightPlayful01\"\n",
      "\n",
      "30 31 279.0\n",
      "\"EmotionSad01\"\n",
      "\"NOTEmotionSad01\"\n",
      "\n",
      "16 17 270.0\n",
      "\"EmotionHappy01\"\n",
      "\"NOTEmotionHappy01\"\n",
      "\n",
      "18 19 270.0\n",
      "\"EmotionLaidbackMellow01\"\n",
      "\"NOTEmotionLaidbackMellow01\"\n",
      "\n",
      "95 96 270.0\n",
      "\"SongFastTempo01\"\n",
      "\"NOTSongFastTempo01\"\n",
      "\n",
      "45 117 267.0\n",
      "\"GenreDancePop01\"\n",
      "\"NOTSongVeryDanceable01\"\n",
      "\n",
      "14 15 264.0\n",
      "\"EmotionExcitingThrilling01\"\n",
      "\"NOTEmotionExcitingThrilling01\"\n",
      "\n",
      "8 9 261.0\n",
      "\"EmotionCarefreeLighthearted01\"\n",
      "\"NOTEmotionCarefreeLighthearted01\"\n",
      "\n",
      "7 32 258.0\n",
      "\"NOTEmotionCalmingSoothing01\"\n",
      "\"EmotionTenderSoft01\"\n",
      "\n",
      "2 3 253.0\n",
      "\"EmotionArousingAwakening01\"\n",
      "\"NOTEmotionArousingAwakening01\"\n",
      "\n",
      "117 168 253.0\n",
      "\"NOTSongVeryDanceable01\"\n",
      "\"InstrumentFemaleLeadVocalsSolo01\"\n",
      "\n",
      "38 117 252.0\n",
      "\"GenreBebop01\"\n",
      "\"NOTSongVeryDanceable01\"\n",
      "\n",
      "24 25 251.0\n",
      "\"EmotionPleasantComfortable01\"\n",
      "\"NOTEmotionPleasantComfortable01\"\n",
      "\n",
      "55 117 251.0\n",
      "\"GenreSwing01\"\n",
      "\"NOTSongVeryDanceable01\"\n",
      "\n",
      "103 104 250.0\n",
      "\"SongPositiveFeelings01\"\n",
      "\"NOTSongPositiveFeelings01\"\n",
      "\n",
      "23 78 248.0\n",
      "\"NOTEmotionLovingRomantic01\"\n",
      "\"InstrumentHornSection01\"\n",
      "\n",
      "91 92 246.0\n",
      "\"SongCatchyMemorable01\"\n",
      "\"NOTSongCatchyMemorable01\"\n",
      "\n",
      "8 17 244.0\n",
      "\"EmotionCarefreeLighthearted01\"\n",
      "\"NOTEmotionHappy01\"\n",
      "\n",
      "23 162 243.0\n",
      "\"NOTEmotionLovingRomantic01\"\n",
      "\"GenreBestRandB01\"\n",
      "\n",
      "10 17 242.0\n",
      "\"EmotionCheerfulFestive01\"\n",
      "\"NOTEmotionHappy01\"\n",
      "\n",
      "37 99 239.0\n",
      "\"GenreAlternativeFolk01\"\n",
      "\"SongHighEnergy01\"\n",
      "\n",
      "99 129 239.0\n",
      "\"SongHighEnergy01\"\n",
      "\"UsageSleeping01\"\n",
      "\n",
      "23 88 238.0\n",
      "\"NOTEmotionLovingRomantic01\"\n",
      "\"InstrumentTrombone01\"\n",
      "\n",
      "26 27 238.0\n",
      "\"EmotionPositiveOptimistic01\"\n",
      "\"NOTEmotionPositiveOptimistic01\"\n",
      "\n",
      "99 158 238.0\n",
      "\"SongHighEnergy01\"\n",
      "\"GenreBestFolk01\"\n",
      "\n",
      "97 98 237.0\n",
      "\"SongHeavyBeat01\"\n",
      "\"NOTSongHeavyBeat01\"\n",
      "\n",
      "93 94 236.0\n",
      "\"SongChangingEnergyLevel01\"\n",
      "\"NOTSongChangingEnergyLevel01\"\n",
      "\n",
      "23 154 235.0\n",
      "\"NOTEmotionLovingRomantic01\"\n",
      "\"GenreBestSoul01\"\n",
      "\n",
      "12 13 233.0\n",
      "\"EmotionEmotionalPassionate01\"\n",
      "\"NOTEmotionEmotionalPassionate01\"\n",
      "\n",
      "0 24 232.0\n",
      "\"AngryAgressive01\"\n",
      "\"EmotionPleasantComfortable01\"\n",
      "\n",
      "31 90 230.0\n",
      "\"NOTEmotionSad01\"\n",
      "\"InstrumentViolinFiddle01\"\n",
      "\n",
      "31 41 228.0\n",
      "\"NOTEmotionSad01\"\n",
      "\"GenreContemporaryBlues01\"\n",
      "\n",
      "8 27 227.0\n",
      "\"EmotionCarefreeLighthearted01\"\n",
      "\"NOTEmotionPositiveOptimistic01\"\n",
      "\n",
      "17 20 227.0\n",
      "\"NOTEmotionHappy01\"\n",
      "\"EmotionLightPlayful01\"\n",
      "\n",
      "35 48 226.0\n",
      "\"NOTEmotionTouchingLoving01\"\n",
      "\"GenreGospel01\"\n",
      "\n",
      "28 29 225.0\n",
      "\"EmotionPowerfulStrong01\"\n",
      "\"NOTEmotionPowerfulStrong01\"\n",
      "\n",
      "33 128 225.0\n",
      "\"NOTEmotionTenderSoft01\"\n",
      "\"UsageRomancing01\"\n",
      "\n",
      "35 80 225.0\n",
      "\"NOTEmotionTouchingLoving01\"\n",
      "\"InstrumentOrgan01\"\n",
      "\n",
      "35 173 225.0\n",
      "\"NOTEmotionTouchingLoving01\"\n",
      "\"InstrumentTrumpetSolo01\"\n",
      "35 55 224.0\n",
      "\"NOTEmotionTouchingLoving01\"\n",
      "\"GenreSwing01\"\n",
      "\n",
      "24 133 221.0\n",
      "\"EmotionPleasantComfortable01\"\n",
      "\"VocalsAggressive01\"\n",
      "\n",
      "101 102 219.0\n",
      "\"SongLike01\"\n",
      "\"NOTSongLike01\"\n",
      "\n",
      "19 124 217.0\n",
      "\"NOTEmotionLaidbackMellow01\"\n",
      "\"UsageGoingtosleep01\"\n",
      "\n",
      "3 14 216.0\n",
      "\"NOTEmotionArousingAwakening01\"\n",
      "\"EmotionExcitingThrilling01\"\n",
      "\n",
      "6 25 215.0\n",
      "\"EmotionCalmingSoothing01\"\n",
      "\"NOTEmotionPleasantComfortable01\"\n",
      "\n",
      "33 129 214.0\n",
      "\"NOTEmotionTenderSoft01\"\n",
      "\"UsageSleeping01\"\n",
      "\n",
      "33 48 213.0\n",
      "\"NOTEmotionTenderSoft01\"\n",
      "\"GenreGospel01\"\n",
      "\n",
      "33 132 211.0\n",
      "\"NOTEmotionTenderSoft01\"\n",
      "\"UsageWiththefamily01\"\n",
      "\n",
      "33 154 211.0\n",
      "\"NOTEmotionTenderSoft01\"\n",
      "\"GenreBestSoul01\"\n",
      "\n",
      "14 100 210.0\n",
      "\"EmotionExcitingThrilling01\"\n",
      "\"NOTSongHighEnergy01\"\n",
      "\n",
      "96 116 203.0\n",
      "\"NOTSongFastTempo01\"\n",
      "\"SongVeryDanceable01\"\n",
      "\n",
      "26 104 198.0\n",
      "\"EmotionPositiveOptimistic01\"\n",
      "\"NOTSongPositiveFeelings01\"\n",
      "\n",
      "0 6 196.0\n",
      "\"AngryAgressive01\"\n",
      "\"EmotionCalmingSoothing01\"\n",
      "\n",
      "21 39 196.0\n",
      "\"NOTEmotionLightPlayful01\"\n",
      "\"GenreBritPop01\"\n",
      "\n",
      "24 151 194.0\n",
      "\"EmotionPleasantComfortable01\"\n",
      "\"GenreBestMetalHardRock01\"\n",
      "\n",
      "16 30 193.0\n",
      "\"EmotionHappy01\"\n",
      "\"EmotionSad01\"\n",
      "\n",
      "21 169 193.0\n",
      "\"NOTEmotionLightPlayful01\"\n",
      "\"InstrumentHarmonicaSolo01\"\n",
      "\n",
      "24 152 193.0\n",
      "\"EmotionPleasantComfortable01\"\n",
      "\"GenreBestPunk01\"\n",
      "\n",
      "21 55 192.0\n",
      "\"NOTEmotionLightPlayful01\"\n",
      "\"GenreSwing01\"\n",
      "\n",
      "21 132 192.0\n",
      "\"NOTEmotionLightPlayful01\"\n",
      "\"UsageWiththefamily01\"\n",
      "\n",
      "21 154 192.0\n",
      "\"NOTEmotionLightPlayful01\"\n",
      "\"GenreBestSoul01\"\n",
      "\n",
      "24 143 190.0\n",
      "\"EmotionPleasantComfortable01\"\n",
      "\"VocalsMonotone01\"\n",
      "\n",
      "8 104 187.0\n",
      "\"EmotionCarefreeLighthearted01\"\n",
      "\"NOTSongPositiveFeelings01\"\n",
      "\n",
      "11 48 187.0\n",
      "\"NOTEmotionCheerfulFestive01\"\n",
      "\"GenreGospel01\"\n",
      "\n",
      "103 145 187.0\n",
      "\"SongPositiveFeelings01\"\n",
      "\"VocalsScreaming01\"\n",
      "\n",
      "4 101 186.0\n",
      "\"EmotionBizarreWeird01\"\n",
      "\"SongLike01\"\n",
      "\n",
      "6 133 185.0\n",
      "\"EmotionCalmingSoothing01\"\n",
      "\"VocalsAggressive01\"\n",
      "\n",
      "11 55 185.0\n",
      "\"NOTEmotionCheerfulFestive01\"\n",
      "\"GenreSwing01\"\n",
      "\n",
      "11 132 185.0\n",
      "\"NOTEmotionCheerfulFestive01\"\n",
      "\"UsageWiththefamily01\"\n",
      "\n",
      "66 70 185.0\n",
      "\"GenreWorld01\"\n",
      "\"InstrumentBass01\"\n",
      "\n",
      "15 133 184.0\n",
      "\"NOTEmotionExcitingThrilling01\"\n",
      "\"VocalsAggressive01\"\n",
      "\n",
      "107 108 183.0\n",
      "\"SongRecommend01\"\n",
      "\"NOTSongRecommend01\"\n",
      "\n",
      "14 29 182.0\n",
      "\"EmotionExcitingThrilling01\"\n",
      "\"NOTEmotionPowerfulStrong01\"\n",
      "\n",
      "2 153 181.0\n",
      "\"EmotionArousingAwakening01\"\n",
      "\"GenreBestSoftRock01\"\n",
      "\n",
      "89 113 181.0\n",
      "\"InstrumentTrumpet01\"\n",
      "\"SongTextureSynthesized01\"\n",
      "\n",
      "103 152 181.0\n",
      "\"SongPositiveFeelings01\"\n",
      "\"GenreBestPunk01\"\n",
      "\n",
      "6 49 180.0\n",
      "\"EmotionCalmingSoothing01\"\n",
      "\"GenreMetalHardRock01\"\n",
      "\n",
      "65 71 180.0\n",
      "\"GenreRock01\"\n",
      "\"InstrumentDrumMachine01\"\n",
      "\n",
      "70 164 180.0\n",
      "\"InstrumentBass01\"\n",
      "\"GenreBestWorld01\"\n",
      "\n",
      "15 49 179.0\n",
      "\"NOTEmotionExcitingThrilling01\"\n",
      "\"GenreMetalHardRock01\"\n",
      "\n"
     ]
    }
   ],
   "source": [
    "T =acc \n",
    "\n",
    "for k in range(100):\n",
    "    i,j = np.unravel_index(T.argmax(), T.shape)\n",
    "    print i,j, T[i,j]\n",
    "    print label[i],label[j]\n",
    "    T[i,j]=0\n",
    "    T[j,i]=0;\n"
   ]
  }
 ],
 "metadata": {
  "anaconda-cloud": {},
  "kernelspec": {
   "display_name": "Python [conda root]",
   "language": "python",
   "name": "conda-root-py"
  },
  "language_info": {
   "codemirror_mode": {
    "name": "ipython",
    "version": 2
   },
   "file_extension": ".py",
   "mimetype": "text/x-python",
   "name": "python",
   "nbconvert_exporter": "python",
   "pygments_lexer": "ipython2",
   "version": "2.7.12"
  }
 },
 "nbformat": 4,
 "nbformat_minor": 1
}
